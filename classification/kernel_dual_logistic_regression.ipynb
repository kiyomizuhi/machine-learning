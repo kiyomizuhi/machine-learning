{
 "cells": [
  {
   "cell_type": "markdown",
   "metadata": {},
   "source": [
    "# Classification Models"
   ]
  },
  {
   "cell_type": "markdown",
   "metadata": {},
   "source": [
    "## Table of contents:\n",
    "* [Maximum Likelihood logistic regression](#maxlike)\n",
    "* [Bayesian logistic regression](#bayesian)\n",
    "* [Non-linear logistic regression](#non-linear)\n",
    "* [Dual logistic regression](#dual)\n",
    "* [Relevance vector classification](#relevant-vector)\n",
    "* [Incremental fitting and boosting](#boosting)\n",
    "* [Classification trees](#trees)\n",
    "* [Random trees, forests, and ferns](#forest)"
   ]
  },
  {
   "cell_type": "markdown",
   "metadata": {},
   "source": [
    "# Computing kernels more efficiently with numpy"
   ]
  },
  {
   "cell_type": "markdown",
   "metadata": {},
   "source": [
    "Regarding computing the kernels, one often has to subtraction and multiplication of huge matrices. Let's say we consider two matrices $X_{1}$ and $X_{2}$\n",
    "\n",
    "$$\\begin{align}\n",
    "\\mathbf{x}_{i} \\quad & = &\\quad (1, x_{1}, \\cdots, x_{D-1})^{T}\\\\\n",
    "X1.shape \\quad & = &\\quad (\\mathbf{x}_{1}, \\cdots, \\mathbf{x}_{N_{1}}) \\quad & = &\\quad (D, N1)\\\\\n",
    "X2.shape \\quad & = &\\quad (\\mathbf{x}_{1}, \\cdots, \\mathbf{x}_{N_{2}}) \\quad & = &\\quad (D, N2)\n",
    "\\end{align}$$\n",
    "\n",
    "and we want to compute the following matrix $\\tilde{X}_{12}$ for all the combinations of $i$ and $j$.\n",
    "\n",
    "$$\\begin{align}\n",
    "\\tilde{X}_{12}.shape \\quad & = &\\quad (N1, N2)\\\\\n",
    "[\\tilde{X}_{12}]_{i,j} \\quad & = &\\quad ([X_{1}]_{:,i} - [X_{2}]_{:,j})^{T}([X_{1}]_{:,i} - [X_{2}]_{:,j}) \\quad & = &\\quad (\\mathbf{x}_{i} - \\mathbf{x}_{j})^{T}(\\mathbf{x}_{1} - \\mathbf{x}_{j})\n",
    "\\end{align}$$\n",
    "\n",
    "In order to efficiently compute this matrix, let us break down the problem.\n",
    "\n",
    "$$\\begin{align}\n",
    "([X_{1}]_{:,i} - [X_{2}]_{:,j})^{T}([X_{1}]_{:,i} - [X_{2}]_{:,j}) \\quad & = &\\quad [X_{1}]^{T}_{:,i}[X_{1}]_{:,i} - [X_{2}]^{T}_{:,j}[X_{1}]_{:,i} - [X_{1}]^{T}_{:,i}[X_{2}]_{:,j} + [X_{2}]^{T}_{:,j}[X_{2}]_{:,j} \\\\\n",
    "\\quad & = &\\quad [X_{1}^{T}X_{1}]_{i,i} - [X_{1}^{T}X_{2}]_{i,j} - [X_{2}^{T}X_{1}]_{j,i} +[X_{2}^{T}X_{2}]_{j,j}\\\\\n",
    "\\quad & = &\\quad [X_{1}^{T}X_{1}]_{i,i} - 2 [X_{1}^{T}X_{2}]_{i,j} +[X_{2}^{T}X_{2}]_{j,j}\n",
    "\\end{align}$$\n",
    "\n",
    "We now notice that we should compute 3 matrices $X_{1}^{T}X_{1}$, $X_{1}^{T}X_{2}$ and $X_{2}^{T}X_{2}$. Furthermore, we should notice that we only need the diagonal elements of $X_{1}^{T}X_{1}$ and $X_{2}^{T}X_{2}$. Hence, we don't have to compute the full matrix. Overall, we need to compute\n",
    "\n",
    "$$\\begin{align}\n",
    "diag(X_{1}^{T}X_{1})\\\\\n",
    "X_{1}^{T}X_{2}\\\\\n",
    "diag(X_{2}^{T}X_{2})\n",
    "\\end{align}$$\n",
    "\n",
    "Obtaining these helps the computation. However, we would like to avoid using double for loops going over $i$ and $j$ and exploit the fast lower level computation of numpy. Hence, we \n",
    "\n",
    "$$\\begin{align}\n",
    "diag(X_{1}^{T}X_{1}) \\quad & \\Rightarrow &\\quad  np.tile(diag(X_{1}^{T}X_{1})^T, [1, N2]) \\quad & \\equiv & \\quad diagX_{11}  \\quad & : &\\quad (N1, N2)\\\\\n",
    "X_{1}^{T}X_{2} \\quad & \\Rightarrow &\\quad  X_{1}^{T}X_{2}  \\quad &\\equiv & \\quad X_{12} \\quad & : &\\quad (N1, N2) \\\\\n",
    "diag(X_{2}^{T}X_{2}) \\quad & \\Rightarrow &\\quad  np.tile(diag(X_{2}^{T}X_{2})^T, [N1, 1])  \\quad  & \\equiv &\\quad diagX_{22} \\quad & : &\\quad (N1, N2)\n",
    "\\end{align}$$\n",
    "\n",
    "Having these, now it's merely addition/subtractions of them to obtain $\\tilde{X}_{12}$.\n",
    "$$\\begin{align}\n",
    "\\tilde{X}_{12} \\quad & = &\\quad  diagX_{11} - 2X_{12} + diagX_{22} \\quad & : &\\quad (N1, N2)\n",
    "\\end{align}$$"
   ]
  },
  {
   "cell_type": "code",
   "execution_count": 1,
   "metadata": {
    "collapsed": true
   },
   "outputs": [],
   "source": [
    "import numpy as np\n",
    "import matplotlib.pyplot as plt\n",
    "import scipy.stats as spst\n",
    "%matplotlib inline\n",
    "\n",
    "# usual gangs"
   ]
  },
  {
   "cell_type": "code",
   "execution_count": 232,
   "metadata": {
    "collapsed": true
   },
   "outputs": [],
   "source": [
    "class DataSet:\n",
    "    def __init__(self):\n",
    "        pass\n",
    "        \n",
    "    def generate_data_set_dim2_nonlinear(self, ns):\n",
    "        \"\"\"\n",
    "        this function generates a 2d data set of two classes which are linearly separated.\n",
    "\n",
    "        Arguments:\n",
    "            ns: number of samples\n",
    "\n",
    "        Output:\n",
    "            ds1: data on the negative side (3, ns). ds1[1] = 0 is the label.\n",
    "            ds2: data on the positive side (3, ns). ds2[1] = 0 is the label.\n",
    "            data  : data combined ds1 and ds2 and shuffled. (2, ns)\n",
    "            label : label combined ds1 and ds2 and shuffled. (2, ns)\n",
    "        \"\"\"\n",
    "        ns_neg = int(0.5 * ns)\n",
    "        ns_pos = ns - ns_neg\n",
    "\n",
    "        ang1 = np.linspace(0, 2*np.pi, ns_neg)\n",
    "        rad1 = ang1 + 0.05\n",
    "        ang1 += 0.4 * np.pi * (np.random.rand(ns_neg) - 0.5)\n",
    "        ds1x = rad1 * np.cos(ang1)\n",
    "        ds1y = rad1 * np.sin(ang1)\n",
    "        ds1 = np.vstack((ds1x, ds1y))\n",
    "\n",
    "        ang2 = np.linspace(0, 2*np.pi, ns_neg)\n",
    "        rad2 = ang2 + 0.05\n",
    "        ang2 += 0.4 * np.pi * (np.random.rand(ns_neg) - 0.5)+ np.pi\n",
    "        ds2x = rad2 * np.cos(ang2)\n",
    "        ds2y = rad2 * np.sin(ang2)\n",
    "        ds2 = np.vstack((ds2x, ds2y))\n",
    "\n",
    "        ds1s = np.vstack((ds1, np.zeros(ns_neg)))\n",
    "        ds2s = np.vstack((ds2, np.ones(ns_pos)))\n",
    "        ds = np.hstack((ds1s, ds2s))\n",
    "        np.random.shuffle(ds.T)\n",
    "\n",
    "        data = ds[:2]\n",
    "        label = ds[2][np.newaxis, :]\n",
    "\n",
    "        datas, mu, sg = self.scale_coordinates(data)\n",
    "        ds1s = (ds1[:2] - mu)/sg\n",
    "        ds2s = (ds2[:2] - mu)/sg\n",
    "\n",
    "        red  = plt.scatter(ds1s[0], ds1s[1], c=(1., 0., 0.), s=3)\n",
    "        blue = plt.scatter(ds2s[0], ds2s[1], c=(0., 0., 1.), s=3)\n",
    "        plt.xlim((-3, 3))\n",
    "        plt.ylim((-3, 3))\n",
    "        plt.legend([red, blue], [\"group 0\", \"group 1\"])\n",
    "\n",
    "        ds = {'1': ds1s, '2': ds2s}\n",
    "        return ds, datas, label\n",
    "\n",
    "    def scale_coordinates(self, x):\n",
    "        mu = x.mean(keepdims=1)\n",
    "        sg = x.std()\n",
    "        xs = (x - mu)/sg\n",
    "        return xs, mu, sg\n",
    "\n"
   ]
  },
  {
   "cell_type": "code",
   "execution_count": 233,
   "metadata": {},
   "outputs": [],
   "source": [
    "class KernelDualLogisticRegression:\n",
    "    def __init__(self, x, w):\n",
    "        self.D = x.shape[0]\n",
    "        self.N = x.shape[1]\n",
    "        self.x = x\n",
    "        self.w = w\n",
    "        self.psi = np.zeros((self.N, 1))\n",
    "        self.sig = np.zeros((self.N, 1))\n",
    "        self.Kxx = np.zeros((self.N, self.N))\n",
    "        self.cost = 0\n",
    "        self.mu = np.zeros((self.N, 1))\n",
    "        self.sgm = np.zeros((self.N, self.N))\n",
    "        self.lmd = 0\n",
    "        self.sgps = 100\n",
    "        assert x.shape[1] == w.shape[1]\n",
    "\n",
    "    def cost_function(self):\n",
    "        \"\"\"\n",
    "        this function computes logistic cost function\n",
    "\n",
    "        Arguments:\n",
    "            psi    :  (N, 1)\n",
    "            self.x :  (D, N)\n",
    "        \n",
    "        Intermediates:\n",
    "            sig :  (N, 1)\n",
    "\n",
    "        Output:\n",
    "            L:     scalar. cost function.\n",
    "        \"\"\"\n",
    "        L  = -np.dot(self.w, np.log(self.sig))\n",
    "        L += -np.dot(1 - self.w, np.log(1 - self.sig))\n",
    "        return L\n",
    "\n",
    "    def sigmoid(self):\n",
    "        \"\"\"\n",
    "        this function computes sigmoid function\n",
    "\n",
    "        Arguments:\n",
    "            psi    :  (N, 1)\n",
    "            self.x :  (D, N)\n",
    "\n",
    "        Intermediates:\n",
    "            arg :  (1, N)\n",
    "         \n",
    "        Output:\n",
    "            sig :  (N, 1)\n",
    "        \"\"\"\n",
    "        arg = np.dot(self.psi.T, self.Kxx)\n",
    "        arg[arg > 200] = 200\n",
    "        arg[arg < -200] = -200\n",
    "        sig = 1 / (1 + np.exp(-arg))\n",
    "        return sig.T\n",
    "    \n",
    "    def kernel_rbf(self, x1, x2):\n",
    "        \"\"\"\n",
    "        Arguments:\n",
    "            x1:    D x N1 \n",
    "            x2:    D x N2\n",
    "            alp:   scalar. std of the gaussians.\n",
    "\n",
    "        Output:\n",
    "            exp_dlt2:  kernel matrix. N1 x N2\n",
    "\n",
    "        \"\"\"\n",
    "        assert x1.shape[0] == x2.shape[0], 'axis0 of the inputs should be equal'\n",
    "        if np.array_equal(x1, x2):\n",
    "            N1 = x1.shape[1]\n",
    "            x12 = np.dot(x1.T, x1)\n",
    "            x11 = np.diag(x12)[:, np.newaxis]\n",
    "            x22 = x11.T\n",
    "            diagX11 = np.tile(x11, [1, N1])\n",
    "            diagX22 = np.tile(x22, [N1, 1])\n",
    "            X12 = diagX11 - 2 * x12 + diagX22\n",
    "            X12 *= -0.5 / (self.lmd**2)\n",
    "            exp_X12 = np.exp(X12)\n",
    "        else:\n",
    "            N1 = x1.shape[1]\n",
    "            N2 = x2.shape[1]\n",
    "            x11 = (x1**2).sum(axis=0, keepdims=1)\n",
    "            x22 = (x2**2).sum(axis=0, keepdims=1)\n",
    "            diagX11 = np.tile(x11.T, [1, N2])\n",
    "            diagX22 = np.tile(x22, [N1, 1])\n",
    "            x12 = np.dot(x1.T, x2)\n",
    "            X12 = diagX11 - 2 * x12 + diagX22\n",
    "            X12 *= -0.5 / (self.lmd**2)\n",
    "            exp_X12 = np.exp(X12)\n",
    "        return exp_X12\n",
    "    \n",
    "    def set_psi_sig_cost(self, psi):\n",
    "        \"\"\"\n",
    "        this function sets psi and update the sigmoid.\n",
    "\n",
    "        Arguments:\n",
    "            psi    :  (N, 1)\n",
    "        \"\"\"\n",
    "        assert psi.shape[0] == self.N\n",
    "        assert psi.shape[1] == 1\n",
    "        self.psi = psi\n",
    "        self.sig = self.sigmoid()\n",
    "        self.cost = self.cost_function()\n",
    "\n",
    "    def dL_dtheta(self):\n",
    "        \"\"\"\n",
    "        this function generates dda/dphidalp.\n",
    "\n",
    "        Arguments:\n",
    "            self.x :  (D, N)\n",
    "\n",
    "        Intermediate:\n",
    "            sig   : (N, 1)\n",
    "            pre   : (1, N)\n",
    "            xx    : (N, N)\n",
    "\n",
    "        Output:\n",
    "            dLdt  : (N, 1)\n",
    "        \"\"\"\n",
    "        err = self.sig.T - self.w\n",
    "        dLdt = -(err * self.Kxx).sum(axis=1, keepdims=1)\n",
    "        return dLdt\n",
    "    \n",
    "    def ddL_dtheta_dtheta(self):\n",
    "        \"\"\"\n",
    "        this function generates dda/dphidalp.\n",
    "\n",
    "        Arguments:\n",
    "            self.x :  (D, N)\n",
    "\n",
    "        Intermediate:\n",
    "            sigder : (1, N)\n",
    "            sxx    : (N, N)\n",
    "            xx     : (N, N)\n",
    "\n",
    "        Output:\n",
    "            dLdt  : (1, N)\n",
    "        \"\"\"\n",
    "        sigder = self.sig * (1 - self.sig)\n",
    "        ddLdtdt = np.zeros((self.N, self.N))\n",
    "        for i in range(self.N):\n",
    "            ddLdtdt += -sigder[i] * np.outer(self.Kxx[i, :], self.Kxx[i, :])\n",
    "        return ddLdtdt\n",
    "\n",
    "    def newton_method_update(self, psi, alpha):\n",
    "        \"\"\"\n",
    "        this function computes sigmoid function\n",
    "\n",
    "        Arguments:\n",
    "            alpha:   scalar\n",
    "            \n",
    "        Intermediate:\n",
    "            dLdt : (N, 1)\n",
    "            hess : (N, N)\n",
    "\n",
    "        Output:\n",
    "            psi  :  (N, 1)\n",
    "        \"\"\"\n",
    "        dLdt = self.dL_dtheta() - psi / self.sgps\n",
    "        hess = self.ddL_dtheta_dtheta()\n",
    "        self.hess = hess\n",
    "        hess -= 1 / self.sgps\n",
    "        hessinv = np.linalg.inv(hess)\n",
    "        update = alpha * np.dot(hessinv, dLdt)\n",
    "        psi -= update\n",
    "        return psi\n",
    "\n",
    "    def optimization(self, psi, lmd, sgps, beta1=0.9, alpha=0.01, nstep=1000):\n",
    "        \"\"\"\n",
    "        this function computes sigmoid function\n",
    "\n",
    "        Arguments:\n",
    "            datab:   (D, ns)  D contains bias as well.\n",
    "            label:   (1, ns)\n",
    "            phi  :   (1, D)\n",
    "            alpha:   scalar\n",
    "\n",
    "        Output:\n",
    "            sig  :  (ns, 1)\n",
    "        \"\"\"\n",
    "        self.lmd = lmd\n",
    "        self.sgps = sgps\n",
    "        self.Kxx = self.kernel_rbf(self.x, self.x)\n",
    "        dlt = 1\n",
    "        step = 0\n",
    "        costs = np.zeros(nstep)\n",
    "        self.set_psi_sig_cost(psi)\n",
    "        costs[step] = self.cost\n",
    "        vsum = np.zeros((psi.shape))\n",
    "        while True:\n",
    "            step += 1\n",
    "            if step == nstep:\n",
    "                break\n",
    "            psi, vsum =  self.momentum(self.psi, alpha, beta1, vsum)\n",
    "            #psi =  self.vanilla(self.psi, alpha)\n",
    "            #psi = self.newton_method_update(self.psi, alpha)\n",
    "            self.set_psi_sig_cost(psi)\n",
    "            costs[step] = self.cost\n",
    "            #dlt = np.abs(costs[step] - costs[step - 1])\n",
    "        strng = '{:d} steps done:'.format(step)\n",
    "        print(strng)\n",
    "        self.mu = self.psi\n",
    "        self.sgm = -np.linalg.inv(self.ddL_dtheta_dtheta())\n",
    "        return self.psi\n",
    "    \n",
    "    def laplace_approximated_inference(self, mu, sgm):\n",
    "        \"\"\"\n",
    "        this function computes sigmoid function\n",
    "\n",
    "        Arguments:\n",
    "            mu   : (NN, )\n",
    "            sgm  : (NN, )\n",
    "\n",
    "        Output:\n",
    "            inf  : (NN, )\n",
    "        \"\"\"\n",
    "        assert mu.shape[0] == sgm.shape[0]\n",
    "        sqt = 1 + np.pi * sgm**2 / 8\n",
    "        arg = -mu / np.sqrt(sqt)\n",
    "        denom = 1 + np.exp(arg)\n",
    "        inf = 1 / denom\n",
    "        return inf\n",
    "    \n",
    "    def plot_decision_boundary_dim2(self):\n",
    "        \"\"\"\n",
    "        this function computes sigmoid function\n",
    "\n",
    "        Arguments:\n",
    "            phi  : phi. (1, (K+1))\n",
    "            alp  : alpha. (D, K)\n",
    "            beta : scalar. learning rate.\n",
    "            lmd  : scalar.\n",
    "\n",
    "        Intermediate:\n",
    "            dLdt   : ((K+1+KD), 1)\n",
    "            ddLdtdt: ((K+1+KD), (K+1+KD))\n",
    "\n",
    "        Output:\n",
    "            theta: (1, (K+1+KD))\n",
    "        \"\"\"\n",
    "        n = 201\n",
    "        nn = n**2\n",
    "        x = np.linspace(-3, 3, n)\n",
    "        y = np.linspace(-3, 3, n)\n",
    "        xg, yg = np.meshgrid(x, y)\n",
    "        xss = xg.reshape(1, nn)\n",
    "        yss = yg.reshape(1, nn)\n",
    "        xys = np.vstack((xss, yss))\n",
    "        Kxxs = self.kernel_rbf(self.x, xys)\n",
    "        mua = np.dot(self.mu.T, Kxxs)\n",
    "        sgma = (np.dot(self.sgm * 1e-15, Kxxs) * Kxxs).sum(axis=0, keepdims=1)\n",
    "        inf = self.laplace_approximated_inference(mua.squeeze(), sgma.squeeze())\n",
    "        inf = inf.reshape(n, n)\n",
    "        inf = np.flipud(inf)\n",
    "        plt.imshow(inf, extent=[-3, 3, -3, 3])\n",
    "\n",
    "    def vanilla(self, psi, alpha):\n",
    "        \"\"\"\n",
    "        performs vanilla gradient descent.\n",
    "\n",
    "        Arguments:\n",
    "            params['phi'] : input phi. (1, K + 1)\n",
    "            params['alp'] : input alp. (D, K)\n",
    "            step          : scalar. the number of steps done.\n",
    "\n",
    "        Intermediate:\n",
    "            dLdt     : (1, K + 1 + K * D)\n",
    "            theta    : (1, K + 1 + K * D)\n",
    "            rate[lr] : scalar. learning rate. \n",
    "            sgps     : std squared of prior. acting as regularization.\n",
    "            \n",
    "        Output:\n",
    "            params['phi'] : updated phi. (1, K + 1)\n",
    "            params['alp'] : updated alp. (D, K)\n",
    "            \n",
    "        \"\"\"\n",
    "        dLdt  = self.dL_dtheta()\n",
    "        psi += -alpha * dLdt\n",
    "        psi += -psi / self.sgps\n",
    "        return psi\n",
    "    \n",
    "    def momentum(self, psi, alpha, beta1, vsum):\n",
    "        \"\"\"\n",
    "        performs momentum gradient descent.\n",
    "\n",
    "        Arguments:\n",
    "            params['phi'] : input phi. (1, K + 1)\n",
    "            params['alp'] : input alp. (D, K)\n",
    "            params['gs']  : gs. momentum. gradient sum. (1, K + 1)\n",
    "            step          : scalar. the number of steps done.\n",
    "\n",
    "        Intermediate:\n",
    "            dLdt : (1, K + 1 + K * D)\n",
    "            theta: (1, K + 1 + K * D)\n",
    "            rate[lr] : scalar. learning rate. \n",
    "            rate[b1] : scalar. rate for gs. gradient sum.\n",
    "            sgps     : std squared of prior. acting as regularization.\n",
    "\n",
    "        Output:\n",
    "            params['phi'] : updated phi. (1, K + 1)\n",
    "            params['alp'] : updated alp. (D, K)\n",
    "            \n",
    "        \"\"\" \n",
    "        vsum = beta1 * vsum\n",
    "        dLdt= self.dL_dtheta()\n",
    "        psi += -alpha * dLdt\n",
    "        psi += -psi / self.sgps\n",
    "        return psi, vsum\n",
    "\n"
   ]
  },
  {
   "cell_type": "code",
   "execution_count": 244,
   "metadata": {},
   "outputs": [
    {
     "data": {
      "image/png": "[encoded data removed]",
      "text/plain": [
       "<matplotlib.figure.Figure at 0x11a86dcc0>"
      ]
     },
     "metadata": {},
     "output_type": "display_data"
    }
   ],
   "source": [
    "N = 500\n",
    "plt.rcParams['figure.figsize'] = (4.0, 4.0)\n",
    "ds, x, w = DataSet().generate_data_set_dim2_nonlinear(N)"
   ]
  },
  {
   "cell_type": "code",
   "execution_count": 246,
   "metadata": {
    "scrolled": false
   },
   "outputs": [
    {
     "name": "stdout",
     "output_type": "stream",
     "text": [
      "100000 steps done:\n"
     ]
    },
    {
     "data": {
      "text/plain": [
       "(-3, 3)"
      ]
     },
     "execution_count": 246,
     "metadata": {},
     "output_type": "execute_result"
    },
    {
     "data": {
      "image/png": "[encoded data removed]",
      "text/plain": [
       "<matplotlib.figure.Figure at 0x118b65c88>"
      ]
     },
     "metadata": {},
     "output_type": "display_data"
    }
   ],
   "source": [
    "nstep = 100000\n",
    "alpha = 2e-6\n",
    "lmd   = 0.2\n",
    "sgps  = 10000\n",
    "beta1 = 0.9\n",
    "\n",
    "psi = 5*(np.random.rand(N, 1)-0.5)\n",
    "\n",
    "plt.rcParams['figure.figsize'] = (8.0, 4.0)\n",
    "plt.subplot(1,2,1)\n",
    "kdlr = KernelDualLogisticRegression(x, w)\n",
    "psi = kdlr.optimization(psi, lmd, sgps, beta1, alpha, nstep)\n",
    "_ = plt.hist(psi, bins = 51)\n",
    "\n",
    "plt.subplot(1,2,2)\n",
    "kdlr.plot_decision_boundary_dim2()\n",
    "red  = plt.scatter(ds['1'][0], ds['1'][1], c=(1., 0., 0.), s=3)\n",
    "blue = plt.scatter(ds['2'][0], ds['2'][1], c=(0., 0., 1.), s=3)\n",
    "plt.xlim((-3, 3))\n",
    "plt.ylim((-3, 3))"
   ]
  },
  {
   "cell_type": "code",
   "execution_count": null,
   "metadata": {
    "collapsed": true
   },
   "outputs": [],
   "source": []
  },
  {
   "cell_type": "code",
   "execution_count": null,
   "metadata": {
    "collapsed": true
   },
   "outputs": [],
   "source": []
  },
  {
   "cell_type": "code",
   "execution_count": null,
   "metadata": {
    "collapsed": true
   },
   "outputs": [],
   "source": []
  },
  {
   "cell_type": "code",
   "execution_count": null,
   "metadata": {
    "collapsed": true
   },
   "outputs": [],
   "source": []
  },
  {
   "cell_type": "code",
   "execution_count": null,
   "metadata": {
    "collapsed": true
   },
   "outputs": [],
   "source": []
  },
  {
   "cell_type": "code",
   "execution_count": null,
   "metadata": {
    "collapsed": true
   },
   "outputs": [],
   "source": []
  },
  {
   "cell_type": "code",
   "execution_count": null,
   "metadata": {
    "collapsed": true
   },
   "outputs": [],
   "source": [
    "def hello(a, b, *args):\n",
    "    print('a = ', a)\n",
    "    print('b = ', b)\n",
    "    print(args)\n",
    "\n",
    "def hallo():\n",
    "    a = 2\n",
    "    b = 3\n",
    "    c = 4\n",
    "    d = 5\n",
    "    hello(a, b, c, d)\n",
    "    "
   ]
  },
  {
   "cell_type": "code",
   "execution_count": null,
   "metadata": {},
   "outputs": [],
   "source": [
    "a = 4\n",
    "b = 3\n",
    "c = 9\n",
    "d = 23\n",
    "hallo()"
   ]
  },
  {
   "cell_type": "code",
   "execution_count": null,
   "metadata": {},
   "outputs": [],
   "source": [
    "a = 4\n",
    "b = 3\n",
    "c = 9\n",
    "d = 23\n",
    "hello(a, b, c, d)"
   ]
  },
  {
   "cell_type": "code",
   "execution_count": null,
   "metadata": {},
   "outputs": [],
   "source": [
    "def outer(a, b):\n",
    "    def inner(c, d):\n",
    "        return c + d\n",
    "    return inner(a, b)\n",
    "\n",
    "outer(1, 2)"
   ]
  },
  {
   "cell_type": "code",
   "execution_count": null,
   "metadata": {
    "collapsed": true
   },
   "outputs": [],
   "source": []
  },
  {
   "cell_type": "code",
   "execution_count": 143,
   "metadata": {},
   "outputs": [
    {
     "data": {
      "text/plain": [
       "array([[ -1.78434547e+07,   1.34902020e+08,  -6.07017117e+07,\n",
       "         -1.84854387e+08,   2.69954894e+05],\n",
       "       [  1.16046114e+08,  -7.38401064e+07,  -1.10076336e+08,\n",
       "          1.63725083e+08,   1.80216277e+07],\n",
       "       [ -1.81641710e+07,   7.73013632e+06,   2.34897189e+08,\n",
       "          1.13633449e+08,  -2.40218983e+08],\n",
       "       [ -5.85133095e+07,   6.73242685e+07,  -2.98377624e+08,\n",
       "          3.95954760e+07,   2.58431852e+08],\n",
       "       [  3.46048351e+07,  -6.69087457e+07,   1.02481961e+08,\n",
       "         -2.97668057e+07,   6.11452969e+07]])"
      ]
     },
     "execution_count": 143,
     "metadata": {},
     "output_type": "execute_result"
    }
   ],
   "source": [
    "n = 5\n",
    "a = 1e-8*np.random.rand(n, n)\n",
    "np.linalg.inv(a)"
   ]
  },
  {
   "cell_type": "code",
   "execution_count": null,
   "metadata": {
    "collapsed": true
   },
   "outputs": [],
   "source": []
  },
  {
   "cell_type": "code",
   "execution_count": null,
   "metadata": {
    "collapsed": true
   },
   "outputs": [],
   "source": []
  },
  {
   "cell_type": "code",
   "execution_count": null,
   "metadata": {
    "collapsed": true
   },
   "outputs": [],
   "source": []
  },
  {
   "cell_type": "code",
   "execution_count": null,
   "metadata": {
    "collapsed": true
   },
   "outputs": [],
   "source": []
  }
 ],
 "metadata": {
  "kernelspec": {
   "display_name": "Python 3",
   "language": "python",
   "name": "python3"
  },
  "language_info": {
   "codemirror_mode": {
    "name": "ipython",
    "version": 3
   },
   "file_extension": ".py",
   "mimetype": "text/x-python",
   "name": "python",
   "nbconvert_exporter": "python",
   "pygments_lexer": "ipython3",
   "version": "3.6.1"
  }
 },
 "nbformat": 4,
 "nbformat_minor": 2
}

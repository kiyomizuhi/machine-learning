{
 "cells": [
  {
   "cell_type": "markdown",
   "metadata": {
    "collapsed": true
   },
   "source": [
    "# Classification Models"
   ]
  },
  {
   "cell_type": "code",
   "execution_count": null,
   "metadata": {
    "collapsed": true
   },
   "outputs": [],
   "source": [
    "## Table of contents:\n",
    "* [Maximum Likelihood logistic regression](#maxlike)\n",
    "* [Bayesian logistic regression](#bayesian)\n",
    "* [Non-linear logistic regression](#non-linear)\n",
    "* [Dual logistic regression](#dual)\n",
    "* [Relevance vector classification](#relevant-vector)\n",
    "* [Incremental fitting and boosting](#boosting)\n",
    "* [Classification trees](#trees)\n",
    "* [Random trees, forests, and ferns](#forest)"
   ]
  },
  {
   "cell_type": "code",
   "execution_count": null,
   "metadata": {
    "collapsed": true
   },
   "outputs": [],
   "source": []
  },
  {
   "cell_type": "code",
   "execution_count": null,
   "metadata": {
    "collapsed": true
   },
   "outputs": [],
   "source": []
  },
  {
   "cell_type": "code",
   "execution_count": null,
   "metadata": {
    "collapsed": true
   },
   "outputs": [],
   "source": []
  },
  {
   "cell_type": "code",
   "execution_count": null,
   "metadata": {
    "collapsed": true
   },
   "outputs": [],
   "source": []
  },
  {
   "cell_type": "code",
   "execution_count": null,
   "metadata": {
    "collapsed": true
   },
   "outputs": [],
   "source": []
  },
  {
   "cell_type": "code",
   "execution_count": 1,
   "metadata": {
    "collapsed": true
   },
   "outputs": [],
   "source": [
    "import numpy as np\n",
    "import matplotlib.pyplot as plt\n",
    "import scipy.stats as spst\n",
    "%matplotlib inline\n",
    "\n",
    "# usual gangs"
   ]
  },
  {
   "cell_type": "code",
   "execution_count": 2,
   "metadata": {
    "collapsed": true
   },
   "outputs": [],
   "source": [
    "class DataSet:\n",
    "    def __init__(self):\n",
    "        pass\n",
    "        \n",
    "    def generate_data_set_dim2_nonlinear(self, ns):\n",
    "        \"\"\"\n",
    "        this function generates a 2d data set of two classes which are linearly separated.\n",
    "\n",
    "        Arguments:\n",
    "            ns: number of samples\n",
    "\n",
    "        Output:\n",
    "            ds1: data on the negative side (3, ns). ds1[1] = 0 is the label.\n",
    "            ds2: data on the positive side (3, ns). ds2[1] = 0 is the label.\n",
    "            data  : data combined ds1 and ds2 and shuffled. (2, ns)\n",
    "            label : label combined ds1 and ds2 and shuffled. (2, ns)\n",
    "        \"\"\"\n",
    "        ns_neg = int(0.5 * ns)\n",
    "        ns_pos = ns - ns_neg\n",
    "        nfar_neg = int(0.99 * ns_neg)\n",
    "        nbdr_neg = ns_neg - nfar_neg\n",
    "        nfar_pos = int(0.99 * ns_pos)\n",
    "        nbdr_pos = ns_pos - nfar_pos\n",
    "\n",
    "        far_neg = 8 * (np.random.rand(nfar_neg) - .5) - 5\n",
    "        bdr_neg = np.random.standard_t(5, size=nbdr_neg) - 0.5\n",
    "        ds1x = np.hstack((far_neg, bdr_neg))\n",
    "        ds1y = 10 * (np.random.rand(ns_neg) - .5)\n",
    "        ds1 = np.vstack((ds1x, ds1y))\n",
    "\n",
    "        far_pos = 8 * (np.random.rand(nfar_pos) - .5) + 5\n",
    "        bdr_pos = np.random.standard_t(5, size=nbdr_pos) + 0.5\n",
    "        ds2x = np.hstack((far_pos, bdr_pos))\n",
    "        ds2y = 10 * (np.random.rand(ns_pos) - .5)\n",
    "        ds2 = np.vstack((ds2x, ds2y))\n",
    "\n",
    "        ang = np.pi * np.random.rand() \n",
    "        c, s = np.cos(ang), np.sin(ang)\n",
    "        rot = np.array([[c, s], [-s, c]])\n",
    "\n",
    "        ds1 = np.dot(rot, ds1)\n",
    "        ds2 = np.dot(rot, ds2)\n",
    "\n",
    "        ds1s = np.vstack((ds1, np.zeros(ns_neg)))\n",
    "        ds2s = np.vstack((ds2, np.ones(ns_pos)))\n",
    "        ds = np.hstack((ds1s, ds2s))\n",
    "        np.random.shuffle(ds.T)\n",
    "\n",
    "        data = ds[:2]\n",
    "        label = ds[2][np.newaxis, :]\n",
    "\n",
    "        datas, mu, sg = self.scale_coordinates(data)\n",
    "        ds1s = (ds1[:2] - mu)/sg\n",
    "        ds2s = (ds2[:2] - mu)/sg\n",
    "        ds = {'1': ds1s, '2': ds2s}\n",
    "\n",
    "        red = plt.scatter(ds1s[0], ds1s[1], c=(1., 0., 0.), s=3)\n",
    "        blu = plt.scatter(ds2s[0], ds2s[1], c=(0., 0., 1.), s=3)\n",
    "        plt.xlim((-3, 3))\n",
    "        plt.ylim((-3, 3))\n",
    "        plt.legend([red, blu], [\"group 0\", \"group 1\"])\n",
    "        \n",
    "        return ds, datas, label\n",
    "\n",
    "    def scale_coordinates(self, x):\n",
    "        mu = x.mean(keepdims=1)\n",
    "        sg = x.std()\n",
    "        xs = (x - mu)/sg\n",
    "        return xs, mu, sg\n"
   ]
  },
  {
   "cell_type": "code",
   "execution_count": null,
   "metadata": {
    "collapsed": true
   },
   "outputs": [],
   "source": [
    "class KernelDualLogisticRegression:\n",
    "    def __init__(self, x, w):\n",
    "        self.D = x.shape[0]\n",
    "        self.N = x.shape[1]\n",
    "        self.x = x\n",
    "        self.w = w\n",
    "        self.psi = np.zeros((self.N, 1))\n",
    "        self.sig = np.zeros((self.N, 1))\n",
    "        self.cost = 0\n",
    "        self.mu = np.zeros((self.N, 1))\n",
    "        self.sgm = np.zeros((self.N, self.N))\n",
    "        self.lmd = 0\n",
    "        self.sgps = 100\n",
    "        assert x.shape[1] == w.shape[1]\n",
    "\n",
    "    def cost_function(self):\n",
    "        \"\"\"\n",
    "        this function computes logistic cost function\n",
    "\n",
    "        Arguments:\n",
    "            psi    :  (N, 1)\n",
    "            self.x :  (D, N)\n",
    "        \n",
    "        Intermediates:\n",
    "            sig :  (N, 1)\n",
    "\n",
    "        Output:\n",
    "            L:     scalar. cost function.\n",
    "        \"\"\"\n",
    "        L  = -np.dot(self.w, np.log(self.sig))\n",
    "        L += -np.dot(1 - self.w, np.log(1 - self.sig))\n",
    "        return L\n",
    "\n",
    "    def sigmoid(self):\n",
    "        \"\"\"\n",
    "        this function computes sigmoid function\n",
    "\n",
    "        Arguments:\n",
    "            psi    :  (N, 1)\n",
    "            self.x :  (D, N)\n",
    "\n",
    "        Intermediates:\n",
    "            arg :  (1, N)\n",
    "         \n",
    "        Output:\n",
    "            sig :  (N, 1)\n",
    "        \"\"\"\n",
    "        arg = np.dot(self.psi.T, self.Kxx)\n",
    "        sig = 1 / (1 + np.exp(-arg))\n",
    "        return sig.T\n",
    "    \n",
    "    def set_psi_sig_cost(self, psi):\n",
    "        \"\"\"\n",
    "        this function sets psi and update the sigmoid.\n",
    "\n",
    "        Arguments:\n",
    "            psi    :  (N, 1)\n",
    "        \"\"\"\n",
    "        assert psi.shape[0] == self.N\n",
    "        assert psi.shape[1] == 1\n",
    "        self.psi = psi\n",
    "        self.sig = self.sigmoid()\n",
    "        self.cost = self.cost_function()\n",
    "\n",
    "    def dL_dtheta(self):\n",
    "        \"\"\"\n",
    "        this function generates dda/dphidalp.\n",
    "\n",
    "        Arguments:\n",
    "            self.x :  (D, N)\n",
    "\n",
    "        Intermediate:\n",
    "            sig   : (N, 1)\n",
    "            pre   : (1, N)\n",
    "            xx    : (N, N)\n",
    "\n",
    "        Output:\n",
    "            dLdt  : (N, 1)\n",
    "        \"\"\"\n",
    "        err = self.sig.T - self.w\n",
    "        dLdt = -(err * self.Kxx).sum(axis=1, keepdims=1)\n",
    "        return dLdt\n",
    "\n",
    "    def newton_method_update(self, psi, alpha):\n",
    "        \"\"\"\n",
    "        this function computes sigmoid function\n",
    "\n",
    "        Arguments:\n",
    "            alpha:   scalar\n",
    "            \n",
    "        Intermediate:\n",
    "            dLdt : (N, 1)\n",
    "            hess : (N, N)\n",
    "\n",
    "        Output:\n",
    "            psi  :  (N, 1)\n",
    "        \"\"\"\n",
    "        dLdt = self.dL_dtheta() - psi / self.sgps\n",
    "        hess = self.ddL_dtheta_dtheta()\n",
    "        self.hess = hess\n",
    "        hess -= 1 / self.sgps\n",
    "        hessinv = np.linalg.inv(hess)\n",
    "        update = alpha * np.dot(hessinv, dLdt)\n",
    "        psi -= update\n",
    "        return psi\n",
    "\n",
    "    def optimization(self, psi, lmd, sgps, beta1=0.9, alpha=0.01, nstep=1000):\n",
    "        \"\"\"\n",
    "        this function computes sigmoid function\n",
    "\n",
    "        Arguments:\n",
    "            datab:   (D, ns)  D contains bias as well.\n",
    "            label:   (1, ns)\n",
    "            phi  :   (1, D)\n",
    "            alpha:   scalar\n",
    "\n",
    "        Output:\n",
    "            sig  :  (ns, 1)\n",
    "        \"\"\"\n",
    "        \n",
    "        self.lmd = lmd\n",
    "        self.sgps = sgps\n",
    "        self.Kxx = self.kernel_rbf(self.x, self.x)\n",
    "        dlt = 1\n",
    "        step = 0\n",
    "        costs = np.zeros(nstep)\n",
    "        self.set_psi_sig_cost(psi)\n",
    "        costs[step] = self.cost\n",
    "        vsum = np.zeros((psi.shape))\n",
    "        while True:\n",
    "            step += 1\n",
    "            if step == nstep:\n",
    "                break\n",
    "            psi, vsum =  self.momentum(self.psi, alpha, beta1, vsum)\n",
    "            #psi =  self.vanilla(self.psi, alpha)\n",
    "            #psi = self.newton_method_update(self.psi, alpha)\n",
    "            self.set_psi_sig_cost(psi)\n",
    "            costs[step] = self.cost\n",
    "            #dlt = np.abs(costs[step] - costs[step - 1])\n",
    "        strng = '{:d} steps done:'.format(step)\n",
    "        print(strng)\n",
    "        self.mu = self.psi\n",
    "        self.sgm = -np.linalg.inv(self.ddL_dtheta_dtheta())\n",
    "        return self.psi\n",
    "    \n",
    "    def plot_decision_boundary_dim2(self):\n",
    "        \"\"\"\n",
    "        this function computes sigmoid function\n",
    "\n",
    "        Arguments:\n",
    "            phi  : phi. (1, (K+1))\n",
    "            alp  : alpha. (D, K)\n",
    "            beta : scalar. learning rate.\n",
    "            lmd  : scalar.\n",
    "\n",
    "        Intermediate:\n",
    "            dLdt   : ((K+1+KD), 1)\n",
    "            ddLdtdt: ((K+1+KD), (K+1+KD))\n",
    "\n",
    "        Output:\n",
    "            theta: (1, (K+1+KD))\n",
    "        \"\"\"\n",
    "        n = 201\n",
    "        nn = n**2\n",
    "        x = np.linspace(-3, 3, n)\n",
    "        y = np.linspace(-3, 3, n)\n",
    "        xg, yg = np.meshgrid(x, y)\n",
    "        xss = xg.reshape(1, nn)\n",
    "        yss = yg.reshape(1, nn)\n",
    "        xys = np.vstack((xss, yss))\n",
    "        Kxxs = self.kernel_rbf(self.x, xys)\n",
    "        mua = np.dot(self.mu.T, Kxxs)\n",
    "        sgma = (np.dot(self.sgm * 1e-15, Kxxs) * Kxxs).sum(axis=0, keepdims=1)\n",
    "        inf = self.laplace_approximated_inference(mua.squeeze(), sgma.squeeze())\n",
    "        inf = inf.reshape(n, n)\n",
    "        inf = np.flipud(inf)\n",
    "        plt.imshow(inf, extent=[-3, 3, -3, 3])"
   ]
  },
  {
   "cell_type": "code",
   "execution_count": 12,
   "metadata": {
    "collapsed": true
   },
   "outputs": [],
   "source": [
    "n = 5\n",
    "nn = n**2\n",
    "x = np.linspace(0, 4, n)\n",
    "y = np.linspace(0, 4, n)\n",
    "z = np.linspace(0, 4, n)\n",
    "xg, yg = np.meshgrid(x, y)\n",
    "xs = xg.reshape(1, nn)\n",
    "ys = yg.reshape(1, nn)\n",
    "xs = xg.reshape(1, nn)\n",
    "ys = yg.reshape(1, nn)"
   ]
  },
  {
   "cell_type": "code",
   "execution_count": 13,
   "metadata": {},
   "outputs": [
    {
     "data": {
      "text/plain": [
       "array([[ 0.,  1.,  2.,  3.,  4.,  0.,  1.,  2.,  3.,  4.,  0.,  1.,  2.,\n",
       "         3.,  4.,  0.,  1.,  2.,  3.,  4.,  0.,  1.,  2.,  3.,  4.]])"
      ]
     },
     "execution_count": 13,
     "metadata": {},
     "output_type": "execute_result"
    }
   ],
   "source": [
    "xs"
   ]
  },
  {
   "cell_type": "code",
   "execution_count": 11,
   "metadata": {},
   "outputs": [],
   "source": [
    "xg, yg = np.meshgrid(x, y)\n",
    "xss = xg.reshape(1, nn)\n",
    "yss = yg.reshape(1, nn)"
   ]
  },
  {
   "cell_type": "code",
   "execution_count": null,
   "metadata": {
    "collapsed": true
   },
   "outputs": [],
   "source": []
  }
 ],
 "metadata": {
  "kernelspec": {
   "display_name": "Python 3",
   "language": "python",
   "name": "python3"
  },
  "language_info": {
   "codemirror_mode": {
    "name": "ipython",
    "version": 3
   },
   "file_extension": ".py",
   "mimetype": "text/x-python",
   "name": "python",
   "nbconvert_exporter": "python",
   "pygments_lexer": "ipython3",
   "version": "3.6.1"
  }
 },
 "nbformat": 4,
 "nbformat_minor": 2
}

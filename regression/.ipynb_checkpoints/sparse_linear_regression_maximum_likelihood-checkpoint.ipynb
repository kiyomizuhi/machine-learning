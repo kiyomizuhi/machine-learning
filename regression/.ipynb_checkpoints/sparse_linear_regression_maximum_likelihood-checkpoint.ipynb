{
 "cells": [
  {
   "cell_type": "markdown",
   "metadata": {
    "collapsed": true
   },
   "source": [
    "# Regression Models"
   ]
  },
  {
   "cell_type": "markdown",
   "metadata": {},
   "source": [
    "Regression aims to estimate the world state $w$ for a given observations $\\mathbf{x}$ by modeling $P(w|\\mathbf{x})$ based on obtained data $\\{\\mathbf{x}_{i}, w_{i}\\}_{i=1}^N$."
   ]
  },
  {
   "cell_type": "markdown",
   "metadata": {},
   "source": [
    "## Table of contents:\n",
    "* [Maximum Likelihood Linear Regression](#ml-linear-regression)\n",
    "* [Bayesian linear regression](#bayesian-linear-regression)\n",
    "* [Non-linear regression - Maximum Likelihood](#non-linear-regression-ml)\n",
    "* [Non-linear regression - Bayesian Inference](#non-linear-regression-bayes)\n",
    "* [Kernels and Gaussian process regression](#kernel-gaussian-process-regression)\n",
    "* [Sparse linear regression](#sparse-linear-regression)\n",
    "* [Dual linear regression](#dual-linear-regression)\n",
    "* [Relevance vector regression](#relevant-vector-regression)\n",
    "* [Regression to multivariate data](#multivariate-data)"
   ]
  },
  {
   "cell_type": "code",
   "execution_count": null,
   "metadata": {
    "collapsed": true
   },
   "outputs": [],
   "source": []
  },
  {
   "cell_type": "markdown",
   "metadata": {},
   "source": [
    "# Sparse linear regression <a class=\"anchor\" id=\"sparse-linear-regression\"></a>"
   ]
  },
  {
   "cell_type": "markdown",
   "metadata": {},
   "source": [
    "Remind ouselves that the 1D student's t-distribution and gamma distribution have the following pdf.\n",
    "$$\\begin{align}\n",
    "Stud_{x}(\\mu, \\sigma, \\nu) \\quad & = & \\quad \\frac{1}{(\\nu \\pi)^{1/2}\\sigma}\\frac{\\Gamma[\\frac{\\nu+1}{2}]}{\\Gamma[\\frac{\\nu}{2}]} \\bigg(1+\\frac{1}{\\nu}\\frac{(x - \\mu)^{2}}{\\sigma^{2}}\\bigg)^{-\\frac{\\nu+1}{2}}\\\\\n",
    "Gam_{h}(\\alpha=\\nu/2, \\beta=\\nu/2) \\quad & = & \\quad \\frac{\\beta^{\\alpha}}{\\Gamma(\\alpha)}h^{\\alpha - 1}exp(-\\beta h)\n",
    "\\end{align}$$\n",
    "Importantly, student's t-distribution can be expressed as a marginalized gaussian using a latent (hidden) variable $h$.\n",
    "$$\\begin{align}\n",
    "Stud_{x}(0, 1, \\nu) \\quad & = & \\quad \\int Norm_{\\phi}(0, 1/h)Gam_{h}(\\nu/2, \\nu/2)dh \n",
    "\\end{align}$$\n",
    "We may form a prior for $\\mathbf{\\phi} = (\\phi_{1}, \\cdots, \\phi_{D})^{T}$.\n",
    "$$\\begin{align}\n",
    "prior :\\qquad p(\\mathbf{\\phi}) \\quad & = & \\quad \\prod_{d=1}^{D}Stud_{\\phi_{d}}(0, 1, \\nu)\\\\\n",
    "\\quad & = & \\quad \\prod_{d=1}^{D} \\frac{\\Gamma[\\frac{\\nu+1}{2}]}{(\\nu \\pi)^{1/2}\\Gamma[\\frac{\\nu}{2}]} \\bigg(1+\\frac{\\phi_{d}^{2}}{\\nu}\\bigg)^{-\\frac{\\nu+1}{2}}\\\\\n",
    " \\quad & = & \\quad \\prod_{d=1}^{D} \\int Norm_{\\phi_{d}}(0, 1/h_{d})Gam_{h_{d}}(\\nu/2, \\nu/2)dh_{d}\\\\\n",
    " \\quad & = & \\quad \\int Norm_{\\mathbf{\\phi}}(0, \\mathbf{H}^{-1})\\prod_{d=1}^{D} Gam_{h_{d}}(\\nu/2, \\nu/2)d\\mathbf{H} \\qquad \\mathbf{H} = diag(h_{1}, \\cdots, h_{D})\n",
    "\\end{align}$$\n",
    "\n",
    "In order to incorporate the sparsity, one can replace the gaussian prior with the student's t prior as shown above.\n",
    "$$\\begin{align}\n",
    "p(\\phi|\\mathbf{X}, \\mathbf{w}, \\sigma) \\quad & = &\\quad \\frac{p(\\mathbf{w}|\\mathbf{X}, \\phi, \\sigma)p(\\phi)}{p(\\mathbf{w}|\\mathbf{X})}\n",
    "\\end{align}$$\n",
    "Here, $\\mathbf{x}_{i} = (1, \\tilde{\\mathbf{x}}_{i}^{T})^{T}$, $\\mathbf{X} = (\\mathbf{x}_{1}, \\cdots, \\mathbf{x}_{N})$, $\\mathbf{w} = (w_{1}, \\cdots, w_{N})^{T}$ and $\\Theta = (\\phi_{0}, \\phi_{1}, \\cdot, \\phi_{D}, \\sigma)$.\n",
    "<br>\n",
    "The likelihood is \n",
    "$$\\begin{align}\n",
    "p(\\mathbf{w}|\\mathbf{X}, \\phi, \\sigma) \\quad & = & \\quad Norm_{\\mathbf{w}}(\\mathbf{X}^{T}\\phi, \\sigma\\mathbf{I}_{N \\times N}) \\quad & = &\\quad  \\#\n",
    "exp \\bigg(-\\frac{(\\mathbf{w} - \\mathbf{X}^{T}\\phi)^{T}(\\mathbf{w} - \\mathbf{X}^{T}\\phi)}{2\\sigma^{2}} \\bigg)\n",
    "\\end{align}$$\n",
    "\n",
    "Again, just for a clarification.\n",
    "$$\\begin{align}\n",
    "\\mathbf{X} \\quad & : &\\quad (D \\times N)\\\\\n",
    "\\mathbf{w} \\quad & : &\\quad (N \\times 1)\\\\\n",
    "\\mathbf{\\phi} \\quad & : &\\quad (D \\times 1)\n",
    "\\end{align}$$\n",
    "\n",
    "Let us compute the maginalized likelihood with respect to $\\mathbf{\\phi}$.\n",
    "$$\\begin{align}\n",
    "p(\\mathbf{w}|\\mathbf{X}, \\sigma)\n",
    "\\quad & = & \\quad \\int d\\mathbf{\\phi} p(\\mathbf{w}, \\mathbf{\\phi}|\\mathbf{X}, \\sigma)\\\\\n",
    "\\quad & = & \\quad \\int d\\mathbf{\\phi} p(\\mathbf{w}|\\mathbf{X}, \\mathbf{\\phi}, \\sigma)p(\\phi)\\\\\n",
    "\\quad & = & \\quad \\int Norm_{\\mathbf{w}}(\\mathbf{X}^{T}\\mathbf{\\phi}, \\sigma\\mathbf{I}_{N \\times N}) Norm_{\\mathbf{\\phi}}(0, \\mathbf{H}^{-1})\\prod_{d=1}^{D} Gam_{h_{d}}(\\nu/2, \\nu/2)d\\mathbf{H}d\\mathbf{\\phi}\\\\\n",
    "\\quad & = & \\quad \\int Norm_{\\mathbf{w}}(\\mathbf{0}, \\mathbf{X}^{T}\\mathbf{H}^{-1}\\mathbf{X} + \\sigma^{2}\\mathbf{I}_{N \\times N})\\prod_{d=1}^{D} Gam_{h_{d}}(\\nu/2, \\nu/2)d\\mathbf{H}\\\\\n",
    "\\end{align}$$\n",
    "\n",
    "After introducing the latent variables $h_{1}, \\cdots, h_{D}$, the maximum likelihood estimation for $\\mathbf{\\phi}$ and $\\sigma$ can now be solved with EM algorithm. Namely,\n",
    "(1)compute the posteriror \n",
    "(2)maximize the marginalized likelihood using the obtained posterior $h_{1}, \\cdots, h_{D}$.\n",
    "$$\\begin{align}\n",
    "\\tilde{h}_{1}, \\cdots, \\tilde{h}_{D}, \\tilde{\\sigma} \\quad & = & \\quad argmax_{h_{1}, \\cdots, h_{D}, \\sigma } \\, \\bigg[ \\int Norm_{\\mathbf{w}}(\\mathbf{0}, \\mathbf{X}^{T}\\mathbf{H}^{-1}\\mathbf{X} + \\sigma^{2}\\mathbf{I}_{N \\times N})\\prod_{d=1}^{D} Gam_{h_{d}}(\\nu/2, \\nu/2)d\\mathbf{H}\\bigg]\\\\\n",
    "\\quad & \\approx & \\quad  argmax_{h_{1}, \\cdots, h_{D}, \\sigma } \\, \\bigg[ Norm_{\\mathbf{w}}(\\mathbf{0}, \\mathbf{X}^{T}\\mathbf{H}^{-1}\\mathbf{X} + \\sigma^{2}\\mathbf{I}_{N \\times N})\\prod_{d=1}^{D} Gam_{h_{d}}(\\nu/2, \\nu/2) \\bigg]\\\\\n",
    "\\quad & \\equiv & \\quad  argmax_{h_{1}, \\cdots, h_{D}, \\sigma^{2} } \\,\\bigg[exp\\big(-L(\\mathbf{h}, \\sigma^{2})\\big)\\bigg]\n",
    "\\end{align}$$\n",
    "\n",
    "Let us write down explicitly the argument.\n",
    "$$\\begin{align}\n",
    "exp\\big(-L(\\mathbf{h}, \\sigma^{2})\\big) \\quad & = & \\quad  \\frac{1}{\\sqrt{(2\\pi)^{N}det(\\mathbf{X}^{T}\\mathbf{H}^{-1}\\mathbf{X} + \\sigma^{2}\\mathbf{I}_{N \\times N})}}exp\\bigg(-\\frac{1}{2}\\mathbf{w}^{T}\\big(\\mathbf{X}^{T}\\mathbf{H}^{-1}\\mathbf{X} + \\sigma^{2}\\mathbf{I}_{N \\times N}\\big)^{-1}\\mathbf{w}\\bigg)\\\\\n",
    " \\quad &  & \\quad  \\qquad \\times\\prod_{d=1}^{D} \\frac{\\beta^{\\alpha}}{\\Gamma(\\alpha)}h_{d}^{\\alpha - 1}exp(-\\beta h_{d})\\bigg|_{\\alpha = \\nu/2, \\beta = \\nu/2}\n",
    "\\end{align}$$\n",
    "\n",
    "Let us work on component by component.\n",
    "\n",
    "First:\n",
    "Using the following relation,\n",
    "$$\\begin{align}\n",
    "A^{-1} - A^{-1}B(D + CAB)^{-1}CA^{-1} \\quad & = & \\quad (A + BD^{-1}C)^{-1}\n",
    "\\end{align}$$\n",
    "the following will be\n",
    "$$\\begin{align}\n",
    "\\big(\\mathbf{X}^{T}\\mathbf{H}^{-1}\\mathbf{X} + \\sigma^{2}\\mathbf{I}_{N \\times N}\\big)^{-1} \\quad & = & \\quad \\frac{1}{\\sigma^{2}}\\mathbf{I}_{N \\times N} - \\frac{1}{\\sigma^{4}}\\mathbf{X}^{T}(\\frac{1}{\\sigma^{2}}\\mathbf{X}\\mathbf{X}^{T} + \\mathbf{H}\\big)^{-1}\\mathbf{X}\\\\\n",
    "\\quad & \\equiv & \\quad \\frac{1}{\\sigma^{2}}\\mathbf{I}_{N \\times N} - \\frac{1}{\\sigma^{4}}\\mathbf{X}^{T}\\mathbf{\\Phi}^{-1}\\mathbf{X}\\\\\n",
    "\\quad & = & \\quad \\frac{1}{\\sigma^{2}}\\mathbf{I}_{N \\times N} - \\bigg( \\frac{1}{\\sigma^{2}}\\mathbf{\\Phi}^{-1}\\mathbf{X}\\bigg)^{T}\\mathbf{\\Phi}\\bigg( \\frac{1}{\\sigma^{2}}\\mathbf{\\Phi}^{-1}\\mathbf{X}\\bigg)\\\\\n",
    "\\mathbf{\\Phi} \\quad & = & \\quad \\frac{1}{\\sigma^{2}}\\mathbf{X}\\mathbf{X}^{T} + \\mathbf{H}\n",
    "\\end{align}$$\n",
    "\n",
    "Next:\n",
    "$$\\begin{align}\n",
    "X \\quad & = & \\quad U_{D \\times D}\\tilde{\\mathbf{X}}V_{N \\times N}\\\\\n",
    "det(\\mathbf{X}^{T}\\mathbf{H}^{-1}\\mathbf{X} + \\sigma^{2}\\mathbf{I}_{N \\times N}) \\quad & = & \\quad det(\\tilde{\\mathbf{X}}^{T}\\mathbf{H}^{-1}\\tilde{\\mathbf{X}} + \\sigma^{2}\\mathbf{I}_{N \\times N})\\\\\n",
    "\\quad & = & \\quad \\bigg[\\prod_{d=1}^{D}\\frac{\\chi_{d}^2}{h_{d}} + \\sigma^{2}\\bigg]\\sigma^{2(N-D)}\\\\\n",
    "\\quad & = & \\quad \\bigg[\\prod_{d=1}^{D} h_{d}^{-1}\\quad\\prod_{d=1}^{D}\\frac{\\chi_{d}^2}{\\sigma^{2}} + h_{d}\\bigg]\\sigma^{2N}\\\\\n",
    "\\quad & = & \\quad det(\\mathbf{H}^{-1})det(\\mathbf{\\Phi})det(\\sigma^{2}\\mathbf{I}_{N \\times N})\n",
    "\\end{align}$$\n",
    "\n",
    "<br>\n",
    "<br>\n",
    "<br>\n",
    "$$\\begin{align}\n",
    "log det K = Tr log K\n",
    "\\end{align}$$\n",
    "<br>\n",
    "<br>\n",
    "<br>\n",
    "\n",
    "$$\\begin{align}\n",
    "-L(\\mathbf{h}, \\sigma^{2}) \\quad & = & \\quad  -\\frac{N}{2}log(2\\pi) + \\frac{1}{2}\\sum_{d=1}^{D}log(h_{d})  - \\frac{1}{2}\\sum_{d=1}^{D}log\\bigg(\\frac{\\chi_{d}^2}{\\sigma^{2}} + h_{d}\\bigg) - \\frac{N}{2}log(\\sigma^{2})\\\\\n",
    " \\quad &  & \\quad -\\frac{1}{2}\\frac{\\mathbf{w}^{T}\\mathbf{w}}{\\sigma^{2}}  +\\frac{1}{2}\\bigg( \\frac{1}{\\sigma^{2}}\\mathbf{\\Phi}^{-1}\\mathbf{X}\\mathbf{w}\\bigg)^{T}\\mathbf{\\Phi}\\bigg( \\frac{1}{\\sigma^{2}}\\mathbf{\\Phi}^{-1}\\mathbf{X}\\mathbf{w}\\bigg)\\\\\n",
    "\\quad &  & \\quad + D log \\bigg(\\frac{\\beta^{\\alpha}}{\\Gamma(\\alpha)}\\bigg) + \\sum_{d=1}^{D} (\\alpha - 1)log(h_{d}) -\\beta h_{d} \\bigg|_{\\alpha = \\nu/2, \\beta = \\nu/2}\n",
    "\\end{align}$$\n",
    "\n",
    "$$\\begin{align}\n",
    "\\frac{1}{\\sigma^{4}}\\mathbf{w}^{T}\\mathbf{X}^{T}\\mathbf{\\Phi}^{-1}\\mathbf{\\Phi}\\mathbf{\\Phi}^{-1}\\mathbf{X}\\mathbf{w} \\quad & = & \\quad \\frac{1}{\\sigma^{4}}\\mathbf{w}^{T}\\mathbf{V}^{T}\\tilde{\\mathbf{X}}^{T}\\mathbf{U}^{T}\\mathbf{\\Phi}^{-1}\\mathbf{U}\\mathbf{U}^{T}\\mathbf{\\Phi}\\mathbf{U}\\mathbf{U}^{T}\\mathbf{\\Phi}^{-1}\\mathbf{U}\\tilde{\\mathbf{X}}\\mathbf{V}\\mathbf{w} \\\\\n",
    "\\quad & = & \\quad \\bigg(\\frac{1}{\\sigma^{2}}\\mathbf{w}^{T}\\mathbf{V}^{T}\\tilde{\\mathbf{X}}^{T}\\tilde{\\mathbf{\\Phi}}^{-1}\\bigg)\\tilde{\\mathbf{\\Phi}}\\bigg(\\frac{1}{\\sigma^{2}}\\tilde{\\mathbf{\\Phi}}^{-1}\\tilde{\\mathbf{X}}\\mathbf{V}\\mathbf{w}\\bigg)\\\\\n",
    "\\quad & = & \\quad \\tilde{\\mathbf{\\mu}}^{T}\\tilde{\\mathbf{\\Phi}}\\tilde{\\mathbf{\\mu}}\\\\\n",
    "\\quad & = & \\quad \\bigg(\\frac{1}{\\sigma^{2}}\\mathbf{w}^{T}\\mathbf{V}^{T}\\tilde{\\mathbf{X}}^{T}\\bigg)\\tilde{\\mathbf{\\Phi}}^{-1}\\bigg(\\frac{1}{\\sigma^{2}}\\tilde{\\mathbf{X}}\\mathbf{V}\\mathbf{w}\\bigg)\\\\\n",
    "\\quad & = & \\quad \\tilde{\\mathbf{\\delta}}^{T}\\tilde{\\mathbf{\\Phi}}^{-1}\\tilde{\\mathbf{\\delta}}\n",
    "\\end{align}$$\n",
    "\n",
    "We may drop constants,\n",
    "$$\\begin{align}\n",
    "- L(\\mathbf{h}, \\sigma^{2}) \\quad & = & \\quad  \\sum_{d=1}^{D} \\bigg[\\frac{\\nu - 1}{2}log(h_{d})  - \\frac{1}{2}log\\bigg(\\frac{\\chi_{d}^2}{\\sigma^{2}} + h_{d}\\bigg) - \\frac{\\nu}{2} h_{d}\\bigg]- \\frac{N}{2}log(\\sigma^{2})\n",
    "-\\frac{1}{2}\\frac{\\mathbf{w}^{T}\\mathbf{w}}{\\sigma^{2}}  +\\frac{1}{2}\\mathbf{\\mu}^{T}\\mathbf{\\Sigma}^{-1}\\mathbf{\\mu}\\\\\n",
    "\\quad & = & \\quad  \\sum_{d=1}^{D} \\bigg[\\frac{\\nu - 1}{2}log(h_{d})  - \\frac{1}{2}log(\\tilde{\\Phi}_{dd}) - \\frac{\\nu}{2} h_{d}\\bigg]- \\frac{N}{2}log(\\sigma^{2})\n",
    "-\\frac{1}{2}\\frac{\\mathbf{w}^{T}\\mathbf{w}}{\\sigma^{2}} + \\frac{1}{2}\\frac{\\tilde{\\delta}_{d}^{2}}{\\tilde{\\Phi}_{dd}}\\\\\n",
    "\\end{align}$$\n",
    "\n",
    "Taking the derivative with respect to $h_{d}$ and equating the result with zero,\n",
    "\n",
    "$$\\begin{align}\n",
    "\\frac{\\partial L(\\mathbf{h}, \\sigma^{2})}{\\partial h_{d}} \\quad & = & \\quad \\frac{\\nu - 1}{h_{d}} - \\frac{1}{\\tilde{\\Phi}_{dd}} - \\nu - \\frac{\\tilde{\\delta}_{d}^{2}}{\\tilde{\\Phi}_{dd}^{2}}\\\\\n",
    "0 \\quad & = & \\quad \\frac{\\nu - 1}{h_{d}} - \\tilde{\\Sigma}_{dd} - \\nu - \\tilde{\\mu}_{d}^{2}\\\\\n",
    "h_{d} \\quad & = & \\quad \\frac{\\nu - 1 - h_{d}\\tilde{\\Sigma}_{dd}}{\\tilde{\\mu}_{d}^{2} + \\nu}\\\\\n",
    "h_{d} \\quad & = & \\quad \\frac{\\nu + 1 - h_{d}\\Sigma_{dd}}{\\mu_{d}^{2} + \\nu}\\\\\n",
    "\\end{align}$$\n",
    "\n",
    "<br>\n",
    "<br>\n",
    "<br>\n",
    "$$\\begin{align}\n",
    "log det K = Tr log K\n",
    "\\end{align}$$\n",
    "<br>\n",
    "<br>\n",
    "<br>\n",
    "\n",
    "\n",
    "$$\\begin{align}\n",
    "\\frac{1}{\\sigma^{2}}\\mathbf{\\Phi}^{-1}\\mathbf{X}\\mathbf{w}\\\\\n",
    "\\mathbf{\\Sigma} \\quad & = & \\quad \\mathbf{\\Phi}^{-1}\\\\\n",
    "\\mathbf{\\Phi} \\quad & = & \\quad \\frac{1}{\\sigma^{2}}\\mathbf{X}\\mathbf{X}^{T} + \\mathbf{H}\n",
    "\\end{align}$$\n",
    "\n",
    "\n",
    "\n",
    "The parameters that maximize above is\n",
    "$$\\begin{align}\n",
    "h_{d} \\quad & \\Leftarrow & \\quad \\frac{1 - h_{d}\\Sigma_{dd} + \\nu}{\\mu_{d}^{2} + \\nu}\n",
    "\\end{align}$$"
   ]
  },
  {
   "cell_type": "code",
   "execution_count": 2,
   "metadata": {
    "collapsed": true
   },
   "outputs": [],
   "source": [
    "import numpy as np\n",
    "import matplotlib.pyplot as plt\n",
    "import scipy.special as spsp\n",
    "import scipy.stats as spst\n",
    "%matplotlib inline\n",
    "\n",
    "# usual gangs"
   ]
  },
  {
   "cell_type": "code",
   "execution_count": 545,
   "metadata": {
    "collapsed": true
   },
   "outputs": [],
   "source": [
    "def generate_nice_params(D):\n",
    "    \"\"\"\n",
    "    Arguments:\n",
    "        D: dimension of the input. \n",
    "\n",
    "    Output:\n",
    "        phi:  slope of the plane.\n",
    "\n",
    "    \"\"\"\n",
    "    phi = np.random.rand(D) + 0.5\n",
    "    phi[2] *= 0.1\n",
    "    noise = np.random.rand()\n",
    "    return phi, noise\n",
    "\n",
    "\n",
    "def generate_samples(ns, phi, noise):\n",
    "    \"\"\"\n",
    "    Arguments:\n",
    "        nx:   scalar. number of points between xlim (-10. and +10.) -> grid.\n",
    "        ns:   scalar. number of samples\n",
    "        phi:  slope of the plane.\n",
    "        x:    x coodinates of the grid.\n",
    "    \n",
    "    Output:\n",
    "        bases:     The basis gaussians on the grid. (ng+1 x nx) 1 for bias.\n",
    "        bases_smp: The basis gaussians sampled from the grid. (ng x ns) \n",
    "        grdtr:     The generated curve. ground truth. (1, ng)\n",
    "        cntrs:     The centers of the gaussians. (ng, )\n",
    "        xs:        sampled x (ns, ) \n",
    "        smp:       sampled from grdtr added with sg noise, (ns, )\n",
    "        \n",
    "    \"\"\"\n",
    "    xy1 = 16 * (np.random.rand(3, ns) - 0.5 )\n",
    "    xy1[0] = 1\n",
    "    grd = np.dot(phi[np.newaxis, :], xy1)\n",
    "    smp = grd + np.random.normal(0, noise, ns)\n",
    "    return xy1, grd, smp.T\n",
    "\n",
    "\n",
    "def generate_colorscale(smp):\n",
    "    \"\"\"\n",
    "    Arguments:\n",
    "        smp:   sampled from grdtr added with sg noise, (ns, )\n",
    "        \n",
    "    Output:\n",
    "        clrs:  color scale (3, ns)    \n",
    "        \n",
    "    \"\"\"\n",
    "    smpmax = smp.max()\n",
    "    smpmin = smp.min()\n",
    "    smpscaled = (smp - smpmin)/(smpmax - smpmin)\n",
    "    clrs = np.hstack((1 - smpscaled, 1 - smpscaled, 0.8*smpscaled)).squeeze()\n",
    "    return clrs\n",
    "\n",
    "\n",
    "def plot_samples(x, wgt, bases, grdtr, xs, smp):\n",
    "    \"\"\"\n",
    "    Arguments:\n",
    "        x:     x coodinates of the grid.\n",
    "        wgt:   weight distribution of the gaussians.  (ng+1, )\n",
    "        bases: The basis gaussians on the grid. (ng+1 x nx) 1 for bias.\n",
    "        grdtr: The generated curve. ground truth. (1, ng)\n",
    "        xs:    sampled x. (ns, )\n",
    "        smp:   sampled from grdtr (ns, )\n",
    "    \n",
    "    Output:\n",
    "        plot of grdtr, wgt * bases, smp\n",
    "        \n",
    "    \"\"\"\n",
    "    for i in range(1, bases.shape[0]):\n",
    "        plt.plot(x, wgt[i] * bases[i], '-')\n",
    "    plt.plot(x, grdtr.squeeze(), 'k-', lw = 3)\n",
    "    plt.plot(xs, smp.squeeze(), 'k.', markersize = 10)\n",
    "    plt.xlabel(\"x\")\n",
    "    plt.ylabel(\"w\")\n",
    "\n",
    "\n",
    "def plot_lg_pdf(phi, nres):\n",
    "    \"\"\"\n",
    "    Arguments:\n",
    "        phi:  slope of the plane.\n",
    "        nres:  resolution of the image.\n",
    "    \n",
    "    Output:\n",
    "        plot.\n",
    "    \"\"\"\n",
    "    D = phi.shape[0]\n",
    "    if D == 3:\n",
    "        nn = nres**2\n",
    "        xres = np.linspace(-10, 10, nres)\n",
    "        yres = np.linspace(-10, 10, nres)\n",
    "        yg, xg = np.meshgrid(yres, xres)\n",
    "        x_flat = xg.reshape(1, nn)\n",
    "        y_flat = yg.reshape(1, nn)\n",
    "        x1_flat = np.vstack((np.ones(nn), x_flat))\n",
    "        xy1_flat = np.vstack((x1_flat, y_flat))\n",
    "        z = np.dot(phi[np.newaxis, :], xy1_flat).reshape((nres, nres)).T\n",
    "        z = np.fliplr(z)\n",
    "        plt.imshow(z, extent=[-10, 10, -10, 10])\n",
    "        plt.arrow(0, 0, 5*phi[1], 5*phi[2], head_width=0.5, head_length=1., fc='k', ec='k')\n",
    "        return z\n",
    "    elif D == 2:\n",
    "        xres = np.linspace(-10, 10, nres)\n",
    "        x1_flat = np.vstack((np.ones(nres), xres))\n",
    "        z = np.dot(phi[np.newaxis, :], x1_flat)\n",
    "        zrep = np.tile(z, (nres, 1))\n",
    "        zrep = np.fliplr(zrep)\n",
    "        plt.imshow(zrep, extent=[-10, 10, -10, 10])\n",
    "        plt.arrow(0, 0, 5*phi[1], 0, head_width=0.5, head_length=1., fc='k', ec='k')\n",
    "        return zrep\n",
    "    else:\n",
    "        print('We don''t cover such case here')\n",
    "\n",
    "\n",
    "def alt_inv(A, B, C, D):\n",
    "    \"\"\"\n",
    "    Ainv - Ainv * B * (D + C * A * B)inv * C * Ainv = (A + B * Dinv * C)inv\n",
    "    A^{-1} - A^{-1}B(D + CAB)^{-1}CA^{-1} = (A + BD^{-1}C)^{-1}\n",
    "    Arguments: \n",
    "        A: (N, N)\n",
    "        B: (N, D)\n",
    "        C: (D, N)\n",
    "        D: (D, D)\n",
    "    \n",
    "    Output:\n",
    "        invm: (N, N)\n",
    "    \"\"\"\n",
    "    Ainv = np.linalg.inv(A)\n",
    "    AinvB = np.dot(Ainv, B)\n",
    "    CAinv = np.dot(C, Ainv)\n",
    "    mid = D\n",
    "    mid += np.dot(np.dot(C, A), B)\n",
    "    midinv = np.linalg.inv(mid)\n",
    "    invm = Ainv - np.dot(np.dot(AinvB, midinv), CAinv)\n",
    "    return invm\n",
    "\n",
    "\n",
    "def phiinv(x, w, sgs, hs):\n",
    "    \"\"\"\n",
    "    Arguments:\n",
    "        x:     bases_smp. z coodinates of the samp. (ng+1 x ns)\n",
    "        w:     smp. sampled from grdtr added with sg noise, (ns, )\n",
    "        sgs:   scalar. this std squared.\n",
    "        hs:    latent variable h's (D,)\n",
    "    \n",
    "    Output:\n",
    "        phiinv:  inverse of phi (D, D)\n",
    "        \n",
    "    \"\"\"\n",
    "    # x : D x N\n",
    "    # w : N\n",
    "    # phiinv : D x D\n",
    "    D = x.shape[0]\n",
    "    N = x.shape[1]\n",
    "    if N >= D:\n",
    "        phi = np.dot(x, x.T)\n",
    "        phi /= sgs\n",
    "        phi += np.diag(hs)\n",
    "        phiinv = np.linalg.inv(phi)\n",
    "    else:\n",
    "        a = sgs * np.eye(N)\n",
    "        b = x.T\n",
    "        c = x\n",
    "        d = np.diag(hs)\n",
    "        phiinv = alt_inv(a, b, c, d)\n",
    "    return phiinv\n",
    "\n",
    "\n",
    "def e_step(xs, w, sgs, hs, nu):\n",
    "    \"\"\"\n",
    "    Arguments:\n",
    "        xs:    z star. (ng+1 x nres**2) D x N*\n",
    "        w:     smp. sampled from grdtr added with sg noise, (ns, )\n",
    "        sgs:   scalar. this std squared.\n",
    "        hs:    latent variable h's (D,)\n",
    "    \n",
    "    Output:\n",
    "        hnew:  updated hs. (D, )\n",
    "        mu:    mu evaluated for each xs (D, 1)\n",
    "        sgm:   cov evaluated for each xs (D, D)\n",
    "        \n",
    "    \"\"\"\n",
    "    # w = N x 1\n",
    "    # xs = D x N\n",
    "    # pinv = D x D\n",
    "    # mu = N x 1\n",
    "    # hnew = D x 1\n",
    "    pinv = phiinv(xs, w, sgs, hs)\n",
    "    sgma = pinv\n",
    "    xw = np.dot(xs, w)\n",
    "    mu = np.dot(pinv, xw)/sgs\n",
    "    hnew = hs\n",
    "    hnew[1:] = 1 + nu - hs[1:] * np.diag(sgma)[1:]\n",
    "    hnew[1:] /= mu[1:].squeeze()**2 + nu\n",
    "    return hnew, mu, sgma\n",
    "\n",
    "\n",
    "def m_step(xs, w, hs, mu, sgma, D):\n",
    "    dlt = w - np.dot(xs.T, mu)\n",
    "    denom = D\n",
    "    denom -= (1 - hs * np.diag(sgma)).sum()\n",
    "    sgsnew = (dlt**2).sum()\n",
    "    sgsnew /= denom\n",
    "    return sgsnew\n"
   ]
  },
  {
   "cell_type": "code",
   "execution_count": 546,
   "metadata": {},
   "outputs": [
    {
     "data": {
      "text/plain": [
       "<matplotlib.text.Text at 0x11cf21278>"
      ]
     },
     "execution_count": 546,
     "metadata": {},
     "output_type": "execute_result"
    },
    {
     "data": {
      "image/png": "[encoded data removed]",
      "text/plain": [
       "<matplotlib.figure.Figure at 0x11c8d65f8>"
      ]
     },
     "metadata": {},
     "output_type": "display_data"
    }
   ],
   "source": [
    "x = np.arange(-5, 5.1, .05)\n",
    "nu = 0.01\n",
    "tx = spst.t.pdf(x, nu, loc=0, scale=1)\n",
    "txy = np.outer(tx, tx)\n",
    "\n",
    "plt.imshow(txy, extent=[-5, 5, -5, 5])\n",
    "plt.title('sparse prior')\n",
    "plt.xlabel('phi1')\n",
    "plt.ylabel('phi2')"
   ]
  },
  {
   "cell_type": "code",
   "execution_count": 547,
   "metadata": {},
   "outputs": [
    {
     "data": {
      "text/plain": [
       "<matplotlib.text.Text at 0x11d1af6d8>"
      ]
     },
     "execution_count": 547,
     "metadata": {},
     "output_type": "execute_result"
    },
    {
     "data": {
      "image/png": "[encoded data removed]",
      "text/plain": [
       "<matplotlib.figure.Figure at 0x11cb2fa20>"
      ]
     },
     "metadata": {},
     "output_type": "display_data"
    }
   ],
   "source": [
    "nres = 101\n",
    "ns = 40\n",
    "D = 3\n",
    "phi, noise = generate_nice_params(D)\n",
    "sgs = 1\n",
    "hs = np.ones(D)\n",
    "xs, grd, smp = generate_samples(ns, phi, noise)\n",
    "clrs = generate_colorscale(smp)\n",
    "\n",
    "plt.rcParams['figure.figsize'] = (8.0, 4.0)\n",
    "plt.subplot(1,2,1)\n",
    "z = plot_lg_pdf(phi, nres)\n",
    "plt.scatter(xs[1], xs[2], color=(0.6, 0.6, 0.6))\n",
    "plt.title('grnd truth')\n",
    "\n",
    "plt.subplot(1,2,2)\n",
    "for i in range(ns):\n",
    "    plt.plot(xs[1, i], xs[2, i], '.', color=tuple(clrs[i]))\n",
    "plt.axis('square')\n",
    "plt.xlim(-10, 10)\n",
    "plt.ylim(-10, 10)\n",
    "plt.title('samples')\n"
   ]
  },
  {
   "cell_type": "code",
   "execution_count": 548,
   "metadata": {},
   "outputs": [
    {
     "name": "stdout",
     "output_type": "stream",
     "text": [
      "0 steps : 1.0000, 1.0000, 1.0000\n",
      "1 steps : 1.0000, 0.4722, 55.9758\n",
      "2 steps : 1.0000, 0.5326, 7.4475\n",
      "3 steps : 1.0000, 0.4914, 55.6959\n",
      "4 steps : 1.0000, 0.4765, 47.5438\n",
      "5 steps : 1.0000, 0.4867, 27.5464\n",
      "6 steps : 1.0000, 0.4838, 41.6678\n",
      "7 steps : 1.0000, 0.4805, 40.9553\n",
      "8 steps : 1.0000, 0.4828, 36.5111\n",
      "9 steps : 1.0000, 0.4826, 38.8859\n",
      "10 steps : 1.0000, 0.4819, 39.0857\n",
      "11 steps : 1.0000, 0.4823, 38.2825\n",
      "12 steps : 1.0000, 0.4823, 38.5956\n",
      "13 steps : 1.0000, 0.4822, 38.6867\n",
      "14 steps : 1.0000, 0.4822, 38.5531\n",
      "15 steps : 1.0000, 0.4823, 38.5876\n",
      "16 steps : 1.0000, 0.4822, 38.6109\n",
      "17 steps : 1.0000, 0.4822, 38.5902\n",
      "thats it\n",
      "grnd truth of phi: 0.6593, 1.4455, 0.0886\n"
     ]
    }
   ],
   "source": [
    "Nrep = 50\n",
    "import copy\n",
    "iniths = copy.deepcopy(hs)\n",
    "for i in range(Nrep):\n",
    "    temp = copy.deepcopy(hs)\n",
    "    print('{} steps : {:1.4f}, {:1.4f}, {:1.4f}'.format(i, hs[0], hs[1], hs[2]))\n",
    "    hs, mu, sgma = e_step(xs, smp, sgs, hs, nu)\n",
    "    sgs = m_step(xs, smp, hs, mu, sgma, D)\n",
    "    if np.max(np.abs(hs - temp)/temp) < 0.0001:\n",
    "        print('that''s it')\n",
    "        break\n",
    "print('grnd truth of phi: {:1.4f}, {:1.4f}, {:1.4f}'.format(phi[0], phi[1], phi[2]))"
   ]
  },
  {
   "cell_type": "code",
   "execution_count": 549,
   "metadata": {},
   "outputs": [
    {
     "name": "stdout",
     "output_type": "stream",
     "text": [
      "inference of mu = [0.4286, 1.4286]\n"
     ]
    }
   ],
   "source": [
    "xs_sel = xs[:2, :]\n",
    "hs_sel = hs[:2]\n",
    "_, mu_sel, sgma_sel = e_step(xs_sel, smp, sgs, hs_sel, nu)\n",
    "mu_sel = mu_sel.squeeze()\n",
    "print('inference of mu = [{:1.4f}, {:1.4f}]'.format(mu_sel[0], mu_sel[1]))"
   ]
  },
  {
   "cell_type": "markdown",
   "metadata": {},
   "source": [
    "Here, we should eliminate components of h that are $\\textbf{large enough}$ (here, only hs[2]). Accordingly, get rid of dimensions in xs to plot the image. In reality, infer new data points given only those survived dimensions."
   ]
  },
  {
   "cell_type": "code",
   "execution_count": 554,
   "metadata": {},
   "outputs": [
    {
     "data": {
      "text/plain": [
       "<matplotlib.collections.PathCollection at 0x11dc3ad68>"
      ]
     },
     "execution_count": 554,
     "metadata": {},
     "output_type": "execute_result"
    },
    {
     "data": {
      "image/png": "[encoded data removed]",
      "text/plain": [
       "<matplotlib.figure.Figure at 0x11d589080>"
      ]
     },
     "metadata": {},
     "output_type": "display_data"
    }
   ],
   "source": [
    "plt.rcParams['figure.figsize'] = (12.0, 4.0)\n",
    "\n",
    "ax = plt.subplot(1,3,1)\n",
    "z = plot_lg_pdf(phi, nres)\n",
    "plt.scatter(xs[1], xs[2], color=(0.6, 0.6, 0.6))\n",
    "\n",
    "plt.subplot(1,3,2)\n",
    "for i in range(ns):\n",
    "    plt.plot(xs[1, i], xs[2, i], '.', color=tuple(clrs[i]))\n",
    "plt.axis('square')\n",
    "plt.xlim(-10, 10)\n",
    "plt.ylim(-10, 10)\n",
    "\n",
    "plt.subplot(1,3,3)\n",
    "z = plot_lg_pdf(mu_sel, nres)\n",
    "plt.scatter(xs[1], xs[2], color=(0.6, 0.6, 0.6))"
   ]
  },
  {
   "cell_type": "code",
   "execution_count": 557,
   "metadata": {},
   "outputs": [
    {
     "name": "stdout",
     "output_type": "stream",
     "text": [
      "error of the generated sample relative to ground truth = 0.7054\n",
      "error of the generated sample relative to inference    = 0.8032\n"
     ]
    }
   ],
   "source": [
    "error_grd = (smp - grd.T).std()\n",
    "inf = np.dot(mu_sel[np.newaxis, :], xs_sel)\n",
    "error_inf = (smp - inf.T).std()\n",
    "print('error of the generated sample relative to ground truth = {:1.4f}'.format(error_grd))\n",
    "print('error of the generated sample relative to inference    = {:1.4f}'.format(error_inf))"
   ]
  }
 ],
 "metadata": {
  "kernelspec": {
   "display_name": "Python 3",
   "language": "python",
   "name": "python3"
  },
  "language_info": {
   "codemirror_mode": {
    "name": "ipython",
    "version": 3
   },
   "file_extension": ".py",
   "mimetype": "text/x-python",
   "name": "python",
   "nbconvert_exporter": "python",
   "pygments_lexer": "ipython3",
   "version": "3.6.1"
  }
 },
 "nbformat": 4,
 "nbformat_minor": 2
}

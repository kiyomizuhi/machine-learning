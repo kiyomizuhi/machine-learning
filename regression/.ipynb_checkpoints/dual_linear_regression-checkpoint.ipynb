{
 "cells": [
  {
   "cell_type": "markdown",
   "metadata": {
    "collapsed": true
   },
   "source": [
    "# Regression Models"
   ]
  },
  {
   "cell_type": "markdown",
   "metadata": {},
   "source": [
    "Regression aims to estimate the world state $w$ for a given observations $\\mathbf{x}$ by modeling $P(w|\\mathbf{x})$ based on obtained data $\\{\\mathbf{x}_{i}, w_{i}\\}_{i=1}^N$."
   ]
  },
  {
   "cell_type": "markdown",
   "metadata": {},
   "source": [
    "## Table of contents:\n",
    "* [Maximum Likelihood Linear Regression](#ml-linear-regression)\n",
    "* [Bayesian linear regression](#bayesian-linear-regression)\n",
    "* [Non-linear regression - Maximum Likelihood](#non-linear-regression-ml)\n",
    "* [Non-linear regression - Bayesian Inference](#non-linear-regression-bayes)\n",
    "* [Kernels and Gaussian process regression](#kernel-gaussian-process-regression)\n",
    "* [Sparse linear regression](#sparse-linear-regression)\n",
    "* [Dual linear regression](#dual-linear-regression)\n",
    "* [Relevance vector regression](#relevant-vector-regression)\n",
    "* [Regression to multivariate data](#multivariate-data)"
   ]
  },
  {
   "cell_type": "markdown",
   "metadata": {},
   "source": [
    "# Dual linear regression <a class=\"anchor\" id=\"dual-linear-regression\"></a>"
   ]
  },
  {
   "cell_type": "code",
   "execution_count": 111,
   "metadata": {
    "collapsed": true
   },
   "outputs": [],
   "source": [
    "import numpy as np\n",
    "import matplotlib.pyplot as plt\n",
    "import scipy.special as spsp\n",
    "import scipy.stats as spst\n",
    "%matplotlib inline\n",
    "\n",
    "# usual gangs"
   ]
  },
  {
   "cell_type": "code",
   "execution_count": 332,
   "metadata": {
    "collapsed": true
   },
   "outputs": [],
   "source": [
    "def generate_nice_params(ns):\n",
    "    \"\"\"\n",
    "    Arguments:\n",
    "    \n",
    "    Output:\n",
    "        sg:   std of the gaussians.\n",
    "        phi:  weight distribution of the gaussians.\n",
    "        sgp:  prior std.\n",
    "    \"\"\"\n",
    "    # sg = 1 x 1\n",
    "    # sgp = 1 x 1\n",
    "    # phi = D x 1\n",
    "    sg = 2 * np.random.rand() + 0.5\n",
    "    sgp = 0.05 * np.random.rand() + 0.01\n",
    "    psi = np.random.normal(0, sgp, (ns, 1)) \n",
    "    return sg, sgp, psi\n",
    "\n",
    "\n",
    "def plot_samples(x, w, phi, clr=(0.8, 0.4, 0.0), lwd=2):\n",
    "    line_x = np.array([[1., 1.], [-10, 10]])\n",
    "    plt.plot(x[1].squeeze(), w.squeeze(), 'b.', markersize=5.)\n",
    "    plt.plot(line_x[1,:], np.dot(phi.T, line_x).squeeze(), ls='-', lw = lwd, color=clr) \n",
    "\n",
    "    \n",
    "def plot_rg_pdf(phi, sg, nres):\n",
    "    nn = nres**2\n",
    "    res = np.linspace(-15, 15, nres)\n",
    "    x, y = np.meshgrid(res, res)\n",
    "    x_flat = x.reshape(1, nn)\n",
    "    y_flat = y.reshape(1, nn)\n",
    "    x1_flat = np.vstack((np.ones(nn), x_flat.squeeze()))\n",
    "    mu_flat = np.dot(phi.T, x1_flat)\n",
    "    rg_pdf = spst.norm.pdf(y_flat, mu_flat, sg*np.ones(nn)).reshape((nres, nres))\n",
    "    rg_pdf = np.flipud(rg_pdf)\n",
    "    plt.imshow(rg_pdf, extent=[-15, 15, -15, 15])\n",
    "    return x1_flat, y_flat\n",
    "\n",
    "\n",
    "def alt_inv(A, B, C, D):\n",
    "    \"\"\"\n",
    "    Ainv - Ainv * B * (D + C * A * B)inv * C * Ainv = (A + B * Dinv * C)inv\n",
    "    A^{-1} - A^{-1}B(D + CAB)^{-1}CA^{-1} = (A + BD^{-1}C)^{-1}\n",
    "    Arguments: \n",
    "        A: (N, N)\n",
    "        B: (N, D)\n",
    "        C: (D, N)\n",
    "        D: (D, D)\n",
    "    \n",
    "    Output:\n",
    "        invm: (N, N)\n",
    "    \"\"\"\n",
    "    Ainv = np.linalg.inv(A)\n",
    "    AinvB = np.dot(Ainv, B)\n",
    "    CAinv = np.dot(C, Ainv)\n",
    "    mid = D\n",
    "    mid += np.dot(np.dot(C, A), B)\n",
    "    midinv = np.linalg.inv(mid)\n",
    "    invm = Ainv - np.dot(np.dot(AinvB, midinv), CAinv)\n",
    "    return invm\n",
    "\n",
    "\n",
    "def bayesian_inference(xs, x, w, sg, sgp):\n",
    "    \"\"\"\n",
    "    Arguments:\n",
    "        zs:    z star. (ng+1 x nres**2) D x N*\n",
    "        z:     bases_smp. z coodinates of the samp. (ng+1 x ns)\n",
    "        w:     smp. sampled from grdtr added with sg noise, (ns, )\n",
    "        sgp:   scalar. prior std.\n",
    "        sg:    sg candidates. (100, )\n",
    "    \n",
    "    Output:\n",
    "        cinv:  inverse of C (ng+1 x ng+1)\n",
    "        \n",
    "    \"\"\"\n",
    "    # w = N x 1\n",
    "    # x = D x N\n",
    "    # xs = D x N*\n",
    "    # A = N x N\n",
    "    # mu = N* x 1\n",
    "    # cov = N* x 1\n",
    "    D = x.shape[0]\n",
    "    N = x.shape[1]\n",
    "    sgs = sg**2\n",
    "    sgps = sgp**2\n",
    "    \n",
    "    xt_x = np.dot(x.T, x)\n",
    "    A = np.dot(xt_x, xt_x)/sgs + np.eye(N)/sgps\n",
    "    A_inv = np.linalg.inv(A)\n",
    "    xst_x = np.dot(xs.T, x)\n",
    "    xt_x_w = np.dot(xt_x, w)\n",
    "    \n",
    "    xst_x_A_inv = np.dot(xst_x, A_inv)\n",
    "    sgm = (xst_x_A_inv * xst_x).sum(axis=1) + sg\n",
    "    mu = np.dot(xst_x_A_inv, xt_x_w) / sgs\n",
    "    return mu, np.sqrt(sgm)\n",
    "\n"
   ]
  },
  {
   "cell_type": "code",
   "execution_count": 334,
   "metadata": {},
   "outputs": [
    {
     "data": {
      "text/plain": [
       "(-10, 10)"
      ]
     },
     "execution_count": 334,
     "metadata": {},
     "output_type": "execute_result"
    },
    {
     "data": {
      "image/png": "[encoded data removed]",
      "text/plain": [
       "<matplotlib.figure.Figure at 0x12a28ac88>"
      ]
     },
     "metadata": {},
     "output_type": "display_data"
    }
   ],
   "source": [
    "ns = 2\n",
    "nres = 151\n",
    "x_range = np.array([-10., 10.])\n",
    "sg, sgp, psi = generate_nice_params(ns)\n",
    "x = (x_range[1] - x_range[0]) * np.random.rand(ns) + x_range[0]\n",
    "x1 = np.vstack((np.ones(ns), x))\n",
    "phi = np.dot(x1, psi)\n",
    "w = np.dot(x1.T, phi) + np.random.normal(0, sg, (ns, 1))\n",
    "\n",
    "plt.rcParams['figure.figsize'] = (4.0, 4.0)\n",
    "plot_samples(x1, w, phi)\n",
    "plt.xlabel(\"x\")\n",
    "plt.ylabel(\"w\")\n",
    "plt.xlim(-10, 10)\n",
    "plt.ylim(-10, 10)"
   ]
  },
  {
   "cell_type": "code",
   "execution_count": 335,
   "metadata": {},
   "outputs": [
    {
     "data": {
      "text/plain": [
       "(-10, 10)"
      ]
     },
     "execution_count": 335,
     "metadata": {},
     "output_type": "execute_result"
    },
    {
     "data": {
      "image/png": "[encoded data removed]",
      "text/plain": [
       "<matplotlib.figure.Figure at 0x129e215c0>"
      ]
     },
     "metadata": {},
     "output_type": "display_data"
    }
   ],
   "source": [
    "plt.rcParams['figure.figsize'] = (15.0, 4.0)\n",
    "plt.subplot(1,3,1)\n",
    "plot_samples(x1, w, phi)\n",
    "plt.xlabel(\"x\")\n",
    "plt.ylabel(\"w\")\n",
    "plt.xlim(-10, 10)\n",
    "plt.ylim(-10, 10)\n",
    "\n",
    "plt.subplot(1,3,2)\n",
    "x1s, ys = plot_rg_pdf(phi, sg, nres)\n",
    "plt.scatter(x.squeeze(), w.squeeze(), color=(0.6, 0.6, 0.6))\n",
    "plt.title(\"grnd_truth\")\n",
    "plt.xlabel(\"x\")\n",
    "plt.ylabel(\"w\")\n",
    "plt.xlim(-10, 10)\n",
    "plt.ylim(-10, 10)\n",
    "\n",
    "plt.subplot(1,3,3)\n",
    "mu, sgm = bayesian_inference(x1s, x1, w, sg, sgp)\n",
    "rg_pdf = spst.norm.pdf(ys.squeeze(), mu.squeeze(), sgm.squeeze()).reshape((nres, nres))\n",
    "rg_pdf = np.fliplr(rg_pdf)\n",
    "plt.imshow(rg_pdf, extent=[-15, 15, -15, 15])\n",
    "plt.scatter(x.squeeze(), w.squeeze(), color=(0.6, 0.6, 0.6))\n",
    "plt.title(\"dual_bayesian_inference\")\n",
    "plt.xlabel(\"x\")\n",
    "plt.ylabel(\"w\")\n",
    "plt.xlim(-10, 10)\n",
    "plt.ylim(-10, 10)\n",
    "\n"
   ]
  },
  {
   "cell_type": "code",
   "execution_count": null,
   "metadata": {
    "collapsed": true
   },
   "outputs": [],
   "source": []
  },
  {
   "cell_type": "code",
   "execution_count": null,
   "metadata": {
    "collapsed": true
   },
   "outputs": [],
   "source": []
  },
  {
   "cell_type": "code",
   "execution_count": null,
   "metadata": {
    "collapsed": true
   },
   "outputs": [],
   "source": []
  },
  {
   "cell_type": "code",
   "execution_count": null,
   "metadata": {
    "collapsed": true
   },
   "outputs": [],
   "source": []
  },
  {
   "cell_type": "code",
   "execution_count": null,
   "metadata": {
    "collapsed": true
   },
   "outputs": [],
   "source": []
  },
  {
   "cell_type": "code",
   "execution_count": null,
   "metadata": {
    "collapsed": true
   },
   "outputs": [],
   "source": []
  },
  {
   "cell_type": "code",
   "execution_count": 319,
   "metadata": {
    "collapsed": true
   },
   "outputs": [],
   "source": [
    "def generate_nice_params():\n",
    "    \"\"\"\n",
    "    Arguments:\n",
    "    \n",
    "    Output:\n",
    "        sg:   std of the gaussians.\n",
    "        phi:  weight distribution of the gaussians.\n",
    "        sgp:  prior std.\n",
    "    \"\"\"\n",
    "    # sg = 1 x 1\n",
    "    # sgp = 1 x 1\n",
    "    # phi = D x 1\n",
    "    sg = 2 * np.random.rand() + 0.5\n",
    "    sgp = 100 * np.random.rand()\n",
    "    phi1 = 3 * (np.random.rand() - .5)\n",
    "    phi0 = 2 * (np.random.rand() - .5)\n",
    "    phi = np.vstack((phi0, phi1))\n",
    "    return sg, phi, sgp\n",
    "\n",
    "def generate_samples(x_range, sg, phi, ns):\n",
    "    # w = 1 x N\n",
    "    # x = D x N\n",
    "    # phi = D x 1\n",
    "    # mid = N x N\n",
    "    # cinv = D x D\n",
    "    x = np.random.rand(ns)\n",
    "    x *= (x_range[1] - x_range[0])\n",
    "    x += x_range[0]\n",
    "    x = np.vstack((np.ones(ns), x))\n",
    "    w  = np.dot(phi.T, x)\n",
    "    w += np.random.randn(ns) * sg\n",
    "    w = w.T\n",
    "    return x, w\n",
    "\n",
    "def plot_samples(x, w, phi, clr=(0.8, 0.4, 0.0), lwd=2):\n",
    "    line_x = np.array([[1., 1.], [-10, 10]])\n",
    "    plt.plot(x[1], w.squeeze(), 'b.', markersize=5.)\n",
    "    plt.plot(line_x[1], np.dot(phi.T, line_x).squeeze(), ls='-', lw = lwd, color=clr) \n",
    "\n",
    "def plot_rg_pdf(phi, sg, n):\n",
    "    nn = n**2\n",
    "    res = np.linspace(-20, 20, n)\n",
    "    x, y = np.meshgrid(res, res)\n",
    "    x_flat = x.reshape(1, nn)\n",
    "    y_flat = y.reshape(1, nn)\n",
    "    x1_flat = np.vstack((np.ones(nn), x_flat.squeeze()))\n",
    "    mu_flat = np.dot(phi.T, x1_flat)\n",
    "    rg_pdf = spst.norm.pdf(y_flat, mu_flat, sg*np.ones(nn)).reshape((n, n))\n",
    "    rg_pdf = np.flipud(rg_pdf)\n",
    "    plt.imshow(rg_pdf, extent=[-15, 15, -15, 15])\n",
    "    \n",
    "def Cinv(x, w, sg, sgp):\n",
    "    # w = N x 1\n",
    "    # x = D x N\n",
    "    # mid = N x N\n",
    "    # cinv = D x D\n",
    "    D = x.shape[0]\n",
    "    N = x.shape[1]\n",
    "    sgs = sg**2\n",
    "    sgps = sgp**2\n",
    "    mid = np.dot(x.T, x)\n",
    "    mid += (sgs / sgps) * np.eye(N)\n",
    "    midinv = np.linalg.inv(mid)\n",
    "    cinv = np.eye(D)\n",
    "    cinv -= np.dot(np.dot(x, midinv), x.T)\n",
    "    cinv *= sgps\n",
    "    return cinv\n",
    "\n",
    "def bayesian_inference(xs1, x, w, sg, sgp):\n",
    "    # w = N x 1\n",
    "    # x = D x N\n",
    "    # xs1 = D x N*\n",
    "    # phi = D x 1\n",
    "    # cinv = D x D\n",
    "    # mu = N* x 1\n",
    "    # cov = N* x 1\n",
    "    D = x.shape[0]\n",
    "    N = x.shape[1]\n",
    "    sgs = sg**2\n",
    "    sgps = sgp**2\n",
    "    xt_x = np.dot(x.T, x)\n",
    "    A = np.dot(xt_x, xt_x)/sgs + np.eye(N)/sgps\n",
    "    A_inv = np.linalg.inv(A)\n",
    "    cinv = np.dot(np.dot(x, A_inv), x.T)\n",
    "    phi = np.dot(np.dot(cinv, x), w) / sgs\n",
    "    mu = np.dot(xs1.T, phi).squeeze()\n",
    "    # doing double np.dot then taking np.diag would be costly. instead we do this.\n",
    "    cov = (np.dot(cinv, xs1) * xs1).sum(axis=0)\n",
    "    cov += sgs\n",
    "    cov = np.sqrt(cov)\n",
    "    return mu, cov, phi, cinv\n",
    "\n",
    "def generate_phi_pdf(phimu, phisg, nres, bb):\n",
    "    res = np.linspace(-bb, bb, nres)\n",
    "    p0g, p1g = np.meshgrid(res, res)\n",
    "    p0s = p0g.reshape(1, nres ** 2)\n",
    "    p1s = p1g.reshape(1, nres ** 2)\n",
    "    ps = np.vstack((p0s, p1s))\n",
    "    phi_pdf = spst.multivariate_normal.pdf(ps.T, mean=phimu, cov=phisg).reshape((nres, nres))\n",
    "    return phi_pdf\n",
    "\n",
    "def evaluate_sigma(x, w, sgp, sg):\n",
    "    # w = N x 1\n",
    "    # x = D x N\n",
    "    # sg = S x 1\n",
    "    sgs = sg**2\n",
    "    sgps = sgp**2\n",
    "    sg_eval = np.zeros(sg.shape[0])\n",
    "    xsgs_cache = sgps * np.dot(x.T, x)\n",
    "    for i in range(sg.shape[0]):\n",
    "        xsgs = xsgs_cache + sgs[i] * np.eye(x.shape[1])\n",
    "        xsgsinv = np.linalg.inv(xsgs)\n",
    "        sg_eval[i] = (np.dot(xsgsinv, w) * w).sum()\n",
    "        sg_eval[i] += np.log(np.linalg.det(xsgs))\n",
    "        #wpdf = spst.multivariate_normal.pdf(w.squeeze(), mean=np.zeros(x.shape[1]), cov=xsgs)\n",
    "        #sg_eval[i] = np.log(wpdf)\n",
    "    return sg_eval\n",
    "    \n",
    "\n"
   ]
  },
  {
   "cell_type": "code",
   "execution_count": 328,
   "metadata": {},
   "outputs": [
    {
     "name": "stdout",
     "output_type": "stream",
     "text": [
      "rough scan :  1.3\n",
      " fine scan :  1.31\n",
      "true  : sg = 0.6773 \n",
      "infer : sg = 1.3100\n"
     ]
    },
    {
     "data": {
      "image/png": "[encoded data removed]",
      "text/plain": [
       "<matplotlib.figure.Figure at 0x12785ed30>"
      ]
     },
     "metadata": {},
     "output_type": "display_data"
    }
   ],
   "source": [
    "ns = 5\n",
    "x_range = np.array([-10., 10.])\n",
    "sg, phi, sgp = generate_nice_params()\n",
    "x, w = generate_samples(x_range, sg, phi, ns)\n",
    "\n",
    "ns = 5\n",
    "nres = 151\n",
    "x_range = np.array([-10., 10.])\n",
    "sg = 2 * np.random.rand() + 0.5\n",
    "sgp = 0.05 * np.random.rand() + 0.01\n",
    "psi = np.random.normal(0, sgp, (ns, 1))\n",
    "x = (x_range[1] - x_range[0]) * np.random.rand(ns) + x_range[0]\n",
    "x1 = np.vstack((np.ones(ns), x))\n",
    "phi = np.dot(x1, psi)\n",
    "w = np.dot(x1.T, phi) + np.random.normal(0, sg, (ns, 1))\n",
    "x = x1\n",
    "\n",
    "plt.rcParams['figure.figsize'] = (12.0, 4.0)\n",
    "plt.subplot(1,3,1)\n",
    "plot_samples(x, w, phi)\n",
    "plt.xlim(x_range)\n",
    "plt.ylim(1.5*x_range)\n",
    "plt.xlabel(\"x\")\n",
    "plt.ylabel(\"w\")\n",
    "\n",
    "s1 = 0.1\n",
    "s2 = 10.0\n",
    "sg_candid = np.linspace(s1, s2, 100)\n",
    "sg_eval = evaluate_sigma(x, w, sgp, sg_candid)\n",
    "plt.subplot(1,3,2)\n",
    "plt.plot(sg_candid, sg_eval, 'b.-')\n",
    "\n",
    "idx = np.where(sg_eval == sg_eval.min())[0][0]\n",
    "sg_inf = sg_candid[idx]\n",
    "print('rough scan : ', sg_inf)\n",
    "\n",
    "s1 = 0.1\n",
    "s2 = 3.1\n",
    "plt.subplot(1,3,3)\n",
    "sg_candid = np.linspace(s1, s2, 301)\n",
    "sg_eval = evaluate_sigma(x, w, sgp, sg_candid)\n",
    "plt.plot(sg_candid, sg_eval, 'b.-')\n",
    "\n",
    "idx = np.where(sg_eval == sg_eval.min())[0][0]\n",
    "sg_inf = sg_candid[idx]\n",
    "print(' fine scan : ', sg_inf)\n",
    "\n",
    "print(\"true  : sg = {0:1.4f} \\ninfer : sg = {1:1.4f}\".format(sg, sg_inf))\n",
    "sge = sg_inf"
   ]
  },
  {
   "cell_type": "code",
   "execution_count": 329,
   "metadata": {},
   "outputs": [
    {
     "data": {
      "text/plain": [
       "<matplotlib.text.Text at 0x12a615b00>"
      ]
     },
     "execution_count": 329,
     "metadata": {},
     "output_type": "execute_result"
    },
    {
     "data": {
      "image/png": "[encoded data removed]",
      "text/plain": [
       "<matplotlib.figure.Figure at 0x12a2e58d0>"
      ]
     },
     "metadata": {},
     "output_type": "display_data"
    }
   ],
   "source": [
    "plt.rcParams['figure.figsize'] = (12.0, 4.0)\n",
    "\n",
    "plt.subplot(1,3,1)\n",
    "plot_samples(x, w, phi)\n",
    "plt.xlim(x_range)\n",
    "plt.ylim(1.5*x_range)\n",
    "plt.xlabel(\"x\")\n",
    "plt.ylabel(\"w\")\n",
    "\n",
    "nres = 201\n",
    "plt.subplot(1,3,2)\n",
    "plot_rg_pdf(phi, sg, nres)\n",
    "plt.scatter(x[1].squeeze(), w.squeeze(), color=(0.6, 0.6, 0.6))\n",
    "plt.xlim(x_range)\n",
    "plt.ylim(1.5*x_range)\n",
    "plt.title(\"grnd_truth\")\n",
    "plt.xlabel(\"x\")\n",
    "plt.ylabel(\"w\")\n",
    "\n",
    "res = np.linspace(-15, 15, nres)\n",
    "xg, yg = np.meshgrid(res, res)\n",
    "xs = xg.reshape(1, nres ** 2)\n",
    "ys = yg.reshape(1, nres ** 2)\n",
    "xs1 = np.vstack((np.ones(xs.shape[1]), xs))\n",
    "mu, cov, phi, cinv = bayesian_inference(xs1, x, w, sge, sgp)\n",
    "brg_pdf = spst.norm(mu, cov).pdf(ys.squeeze()).reshape((nres, nres))\n",
    "\n",
    "plt.subplot(1,3,3)\n",
    "rg_pdf = np.flipud(brg_pdf)\n",
    "plt.imshow(rg_pdf, extent=[-15, 15, -15, 15])\n",
    "plt.scatter(x[1].squeeze(), w.squeeze(), color=(0.6, 0.6, 0.6))\n",
    "plt.xlim(x_range)\n",
    "plt.ylim(1.5*x_range)\n",
    "plt.title(\"inference\")\n",
    "plt.xlabel(\"x*\")\n",
    "plt.ylabel(\"w*\")\n",
    "\n"
   ]
  },
  {
   "cell_type": "code",
   "execution_count": 309,
   "metadata": {},
   "outputs": [
    {
     "data": {
      "text/plain": [
       "(2, 5)"
      ]
     },
     "execution_count": 309,
     "metadata": {},
     "output_type": "execute_result"
    }
   ],
   "source": [
    "x.shape"
   ]
  },
  {
   "cell_type": "code",
   "execution_count": 310,
   "metadata": {},
   "outputs": [
    {
     "data": {
      "text/plain": [
       "(5, 1)"
      ]
     },
     "execution_count": 310,
     "metadata": {},
     "output_type": "execute_result"
    }
   ],
   "source": [
    "w.shape"
   ]
  },
  {
   "cell_type": "code",
   "execution_count": 312,
   "metadata": {},
   "outputs": [
    {
     "data": {
      "text/plain": [
       "(2, 1)"
      ]
     },
     "execution_count": 312,
     "metadata": {},
     "output_type": "execute_result"
    }
   ],
   "source": [
    "phi.shape"
   ]
  }
 ],
 "metadata": {
  "kernelspec": {
   "display_name": "Python 3",
   "language": "python",
   "name": "python3"
  }
 },
 "nbformat": 4,
 "nbformat_minor": 2
}

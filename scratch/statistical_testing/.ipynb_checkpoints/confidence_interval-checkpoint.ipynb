{
 "cells": [
  {
   "cell_type": "code",
   "execution_count": 8,
   "metadata": {
    "collapsed": true
   },
   "outputs": [],
   "source": [
    "import time\n",
    "import numpy as np\n",
    "import matplotlib.pyplot as plt\n",
    "import seaborn as sns\n",
    "import scipy.stats as spst\n",
    "%matplotlib inline"
   ]
  },
  {
   "cell_type": "code",
   "execution_count": null,
   "metadata": {
    "collapsed": true
   },
   "outputs": [],
   "source": []
  },
  {
   "cell_type": "code",
   "execution_count": 3,
   "metadata": {
    "scrolled": true
   },
   "outputs": [
    {
     "data": {
      "text/plain": [
       "(-0.1, 2.0)"
      ]
     },
     "execution_count": 3,
     "metadata": {},
     "output_type": "execute_result"
    },
    {
     "data": {
      "image/png": "[encoded data removed]",
      "text/plain": [
       "<matplotlib.figure.Figure at 0x1190bcbe0>"
      ]
     },
     "metadata": {},
     "output_type": "display_data"
    }
   ],
   "source": [
    "# generating parameters of ground truth\n",
    "np.random.seed(1)\n",
    "mu_tru = 10 * np.random.rand()\n",
    "std_tru =  5 * np.random.rand()\n",
    "\n",
    "# generating samples\n",
    "n_smp = 30\n",
    "x = np.random.normal(mu_tru, std_tru, n_smp)\n",
    "mu_smp = x.mean()\n",
    "std_smp = x.std() / np.sqrt(n_smp)\n",
    "xs = np.arange(-5, 15, 0.01)\n",
    "gs_smp = spst.norm(mu_smp, std_smp).pdf(xs)\n",
    "\n",
    "# confidence interval based on samples\n",
    "ci_smp = mu_smp + std_smp * spst.norm.ppf([0.025, 0.975])\n",
    "xci_smp = np.arange(ci_smp[0], ci_smp[1], 0.01)\n",
    "gs_ci_smp = spst.norm(mu_smp, std_smp).pdf(xci_smp)\n",
    "\n",
    "plt.rcParams['figure.figsize'] = (8.0,  4.0)\n",
    "plt.vlines(mu_tru, -1, 4., color='g')\n",
    "#plt.plot(xs, gs_tru, color='g')\n",
    "#plt.fill_between(xci_tru, gs_ci_tru, color=(0, 1, 0), alpha=0.2)\n",
    "#plt.vlines(ci_tru[0], -1, 1, color='g', linestyles='dashed')\n",
    "#plt.vlines(ci_tru[1], -1, 1, color='g', linestyles='dashed')\n",
    "\n",
    "#plt.vlines(mu_smp, -1, 1, color='r')\n",
    "plt.plot(xs, gs_smp, color='r')\n",
    "plt.fill_between(xci_smp, gs_ci_smp, color=(1, 0, 0), alpha=0.2)\n",
    "plt.vlines(ci_smp[0], -1, 4., color='r', linestyles='dashed')\n",
    "plt.vlines(ci_smp[1], -1, 4., color='r', linestyles='dashed')\n",
    "\n",
    "plt.scatter(x, np.zeros(n_smp), s=8, c='b')\n",
    "plt.xlim((-3., 13.))\n",
    "plt.ylim((-0.1, 2.0))"
   ]
  },
  {
   "cell_type": "code",
   "execution_count": 10,
   "metadata": {},
   "outputs": [
    {
     "data": {
      "text/plain": [
       "0.0048739737543716261"
      ]
     },
     "execution_count": 10,
     "metadata": {},
     "output_type": "execute_result"
    }
   ],
   "source": [
    "spst.sem(x[0])"
   ]
  },
  {
   "cell_type": "code",
   "execution_count": 15,
   "metadata": {},
   "outputs": [
    {
     "data": {
      "text/plain": [
       "0.0048739737543716261"
      ]
     },
     "execution_count": 15,
     "metadata": {},
     "output_type": "execute_result"
    }
   ],
   "source": [
    "x[0].std() / np.sqrt(x[0].shape[0] - 1)"
   ]
  },
  {
   "cell_type": "code",
   "execution_count": null,
   "metadata": {
    "collapsed": true
   },
   "outputs": [],
   "source": []
  },
  {
   "cell_type": "code",
   "execution_count": null,
   "metadata": {
    "collapsed": true
   },
   "outputs": [],
   "source": []
  },
  {
   "cell_type": "code",
   "execution_count": null,
   "metadata": {},
   "outputs": [],
   "source": [
    "# generating samples\n",
    "n_iter = 12345\n",
    "n_smp = 123\n",
    "n_ens = 1234\n",
    "\n",
    "ratio = np.zeros(n_iter)\n",
    "for seed in range(n_iter):\n",
    "    np.random.seed(seed + 9876)\n",
    "    mu_tru = 10 * np.random.rand()\n",
    "    std_tru =  3 * np.random.rand()\n",
    "\n",
    "    x = np.random.normal(mu_tru, std_tru, (n_ens, n_smp))\n",
    "    mu_smp = x.mean(axis=1, keepdims=1)\n",
    "    se_smp = x.std(axis=1, keepdims=1) / np.sqrt(n_smp - 1)\n",
    "\n",
    "    #ci_smp = mu_smp + se_smp * spst.norm.ppf([0.025, 0.975])\n",
    "    h = spst.t.ppf((1 + 0.95) / 2, n_smp - 1)\n",
    "    ci_smp = mu_smp + se_smp * np.array([-h, h])\n",
    "    ratio[seed] = ((ci_smp[:, 0] <= mu_tru) * (ci_smp[:, 1] >= mu_tru)).mean()\n",
    "    #print('ratio: {:1.5f}'.format(ratio[seed]))\n",
    "\n",
    "plt.rcParams['figure.figsize'] = (8.0,  4.0)\n",
    "plt.hist(ratio, bins=61, range=(0.92, 0.98), normed=True)\n",
    "print('average: {:1.5f}'.format(ratio.mean()))"
   ]
  },
  {
   "cell_type": "code",
   "execution_count": 44,
   "metadata": {},
   "outputs": [
    {
     "data": {
      "text/plain": [
       "array([-1.95996398,  1.95996398])"
      ]
     },
     "execution_count": 44,
     "metadata": {},
     "output_type": "execute_result"
    }
   ],
   "source": [
    "spst.norm.ppf([0.025, 0.975])"
   ]
  },
  {
   "cell_type": "code",
   "execution_count": 52,
   "metadata": {},
   "outputs": [
    {
     "data": {
      "text/plain": [
       "0.15643324797743577"
      ]
     },
     "execution_count": 52,
     "metadata": {},
     "output_type": "execute_result"
    }
   ],
   "source": [
    "spst.sem(x[0])"
   ]
  },
  {
   "cell_type": "code",
   "execution_count": 57,
   "metadata": {},
   "outputs": [
    {
     "data": {
      "text/plain": [
       "0.15643324797743577"
      ]
     },
     "execution_count": 57,
     "metadata": {},
     "output_type": "execute_result"
    }
   ],
   "source": [
    "x[0].std()/np.sqrt(n_smp - 1)"
   ]
  },
  {
   "cell_type": "code",
   "execution_count": 62,
   "metadata": {},
   "outputs": [
    {
     "ename": "NameError",
     "evalue": "name 'se' is not defined",
     "output_type": "error",
     "traceback": [
      "\u001b[0;31m---------------------------------------------------------------------------\u001b[0m",
      "\u001b[0;31mNameError\u001b[0m                                 Traceback (most recent call last)",
      "\u001b[0;32m<ipython-input-62-529f4ea78bdc>\u001b[0m in \u001b[0;36m<module>\u001b[0;34m()\u001b[0m\n\u001b[0;32m----> 1\u001b[0;31m \u001b[0mse\u001b[0m\u001b[0;34m*\u001b[0m\u001b[0mspst\u001b[0m\u001b[0;34m.\u001b[0m\u001b[0mt\u001b[0m\u001b[0;34m.\u001b[0m\u001b[0mppf\u001b[0m\u001b[0;34m(\u001b[0m\u001b[0;34m(\u001b[0m\u001b[0;36m1\u001b[0m\u001b[0;34m+\u001b[0m\u001b[0;36m0.95\u001b[0m\u001b[0;34m)\u001b[0m\u001b[0;34m/\u001b[0m\u001b[0;36m2\u001b[0m\u001b[0;34m,\u001b[0m \u001b[0mlen\u001b[0m\u001b[0;34m(\u001b[0m\u001b[0mx\u001b[0m\u001b[0;34m[\u001b[0m\u001b[0;36m0\u001b[0m\u001b[0;34m]\u001b[0m\u001b[0;34m)\u001b[0m\u001b[0;34m-\u001b[0m\u001b[0;36m1\u001b[0m\u001b[0;34m)\u001b[0m\u001b[0;34m\u001b[0m\u001b[0m\n\u001b[0m",
      "\u001b[0;31mNameError\u001b[0m: name 'se' is not defined"
     ]
    }
   ],
   "source": [
    "se*spst.t.ppf((1+0.95)/2, n_smp-1)"
   ]
  },
  {
   "cell_type": "code",
   "execution_count": 65,
   "metadata": {},
   "outputs": [
    {
     "data": {
      "text/plain": [
       "1.9695368676395824"
      ]
     },
     "execution_count": 65,
     "metadata": {},
     "output_type": "execute_result"
    }
   ],
   "source": [
    "spst.t.ppf((1+0.95)/2, n_smp-1)"
   ]
  },
  {
   "cell_type": "code",
   "execution_count": null,
   "metadata": {
    "collapsed": true
   },
   "outputs": [],
   "source": []
  },
  {
   "cell_type": "code",
   "execution_count": null,
   "metadata": {
    "collapsed": true
   },
   "outputs": [],
   "source": []
  },
  {
   "cell_type": "code",
   "execution_count": null,
   "metadata": {
    "collapsed": true
   },
   "outputs": [],
   "source": []
  },
  {
   "cell_type": "code",
   "execution_count": null,
   "metadata": {
    "collapsed": true
   },
   "outputs": [],
   "source": []
  },
  {
   "cell_type": "code",
   "execution_count": null,
   "metadata": {
    "collapsed": true
   },
   "outputs": [],
   "source": []
  },
  {
   "cell_type": "code",
   "execution_count": null,
   "metadata": {
    "collapsed": true
   },
   "outputs": [],
   "source": []
  },
  {
   "cell_type": "code",
   "execution_count": null,
   "metadata": {
    "collapsed": true
   },
   "outputs": [],
   "source": []
  },
  {
   "cell_type": "code",
   "execution_count": null,
   "metadata": {
    "collapsed": true
   },
   "outputs": [],
   "source": []
  }
 ],
 "metadata": {
  "kernelspec": {
   "display_name": "Python 3",
   "language": "python",
   "name": "python3"
  },
  "language_info": {
   "codemirror_mode": {
    "name": "ipython",
    "version": 3
   },
   "file_extension": ".py",
   "mimetype": "text/x-python",
   "name": "python",
   "nbconvert_exporter": "python",
   "pygments_lexer": "ipython3",
   "version": "3.6.1"
  }
 },
 "nbformat": 4,
 "nbformat_minor": 2
}

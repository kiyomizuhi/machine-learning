{
 "cells": [
  {
   "cell_type": "markdown",
   "metadata": {
    "collapsed": true
   },
   "source": [
    "# Regression Models"
   ]
  },
  {
   "cell_type": "markdown",
   "metadata": {},
   "source": [
    "Regression aims to estimate the world state $w$ for a given observations $\\mathbf{x}$ by modeling $P(w|\\mathbf{x})$ based on obtained data $\\{\\mathbf{x}_{i}, w_{i}\\}_{i=1}^N$."
   ]
  },
  {
   "cell_type": "markdown",
   "metadata": {
    "collapsed": true
   },
   "source": [
    "## Linear Regression - Maximum Likelihood - \n",
    "Suppose $\\mathbf{x}_{i} = (1, \\tilde{\\mathbf{x}}_{i}^{T})^{T}$, $\\mathbf{X} = (\\mathbf{x}_{1}, \\cdots, \\mathbf{x}_{N})$, $\\mathbf{w} = (w_{1}, \\cdots, w_{N})^{T}$,  $\\Theta = (\\phi_{0}, \\phi_{1}, \\sigma)$ and $\\mathbf{\\phi} = (\\phi_{0}, \\phi_{1})^{T}$\n",
    "\n",
    "The likelihood reads as follows.\n",
    "$$\\begin{align}\n",
    "p(\\mathbf{w}|\\mathbf{X}, \\Theta) \\quad & = &\\quad Norm_{\\mathbf{w}}(\\mathbf{X}^{T}\\phi, \\sigma)\\\\\n",
    " \\quad & = &\\quad \\prod_{i=1}^{N}  Norm_{w_{i}}(\\mathbf{x}_{i}^{T}\\phi, \\sigma)\n",
    "\\end{align}$$\n",
    "\n",
    "Here we perform the maximum likelihood estimations for $\\Theta$.\n",
    "\n",
    "$$\\begin{align}\n",
    "\\Theta  \\quad & = &\\quad argmax_{\\theta}\\quad p(\\mathbf{w}|\\mathbf{X}, \\theta)\\\\\n",
    "\\quad & = &\\quad argmax_{\\Theta}\\quad \\sum_{i=1}^{N} log \\Big[ Norm_{w_{i}}(\\mathbf{x}_{i}^{T}\\phi, \\sigma)\\Big]\\\\\n",
    "\\quad & = &\\quad argmax_{\\theta, \\sigma}\\quad \\sum_{i=1}^{N} \\bigg[-\\frac{Nlog(\\sigma^{2})}{2} - \\frac{(w_{i} - \\mathbf{x}_{i}^{T}\\phi)^{T}(w_{i} - \\mathbf{x}_{i}^{T}\\phi)}{2\\sigma^{2}} + const\\bigg]\n",
    "\\end{align}$$\n",
    "\n",
    "By taking derivatives with respect to the hyperparameters and equate the results to zero, we find the values that maximize (let's assume so) the likelihood.\n",
    "\n",
    "$$\\begin{align}\n",
    "\\phi \\quad & = &\\quad (\\mathbf{X}\\mathbf{X}^{T})^{-1}\\mathbf{X}\\mathbf{w}\\\\\n",
    "\\sigma^{2} \\quad & = &\\quad \\frac{(\\mathbf{w} - \\mathbf{X}^{T}\\phi)^{T}(\\mathbf{w} - \\mathbf{X}^{T}\\phi)}{N}\n",
    "\\end{align}$$\n",
    "<br>"
   ]
  },
  {
   "cell_type": "code",
   "execution_count": null,
   "metadata": {
    "collapsed": true
   },
   "outputs": [],
   "source": [
    "import numpy as np\n",
    "import matplotlib.pyplot as plt\n",
    "import scipy.special as spsp\n",
    "import scipy.stats as spst\n",
    "%matplotlib inline\n",
    "\n",
    "# usual gangs"
   ]
  },
  {
   "cell_type": "code",
   "execution_count": null,
   "metadata": {
    "collapsed": true
   },
   "outputs": [],
   "source": [
    "# this function outputs an covariance matrices avoiding generating too much squashed ellipses\n",
    "def generate_nice_params():\n",
    "    sg = 2 * np.random.rand() + 0.5\n",
    "    phi1 = 3 * (np.random.rand() - .5)\n",
    "    phi0 = 2 * (np.random.rand() - .5)\n",
    "    phi = np.vstack((phi0, phi1))\n",
    "    return sg, phi\n",
    "\n",
    "def generate_samples(x_range, sg, phi, ns):\n",
    "    x = np.random.rand(ns)\n",
    "    x *= (x_range[1] - x_range[0])\n",
    "    x += x_range[0]\n",
    "    x = np.vstack((np.ones(ns), x))\n",
    "    w  = np.dot(phi.T, x)\n",
    "    w += np.random.randn(ns) * sg\n",
    "    smp = np.vstack((x, w))\n",
    "    return x, w, smp\n",
    "\n",
    "def plot_samples(x, w, phi, clr=(0.8, 0.4, 0.0), lwd=2):\n",
    "    '''plot the hypothetical data set'''\n",
    "    line_x = np.array([[1., 1.], [-10, 10]])\n",
    "    plt.plot(x[1], w.squeeze(), 'b.', markersize=5.)\n",
    "    plt.plot(line_x[1], np.dot(phi.T, line_x).squeeze(), ls='-', lw = lwd, color=clr)\n",
    "    \n",
    "def plot_lg_pdf(phi, sg):\n",
    "    n = 201\n",
    "    nn = n**2\n",
    "    res = np.linspace(-20, 20, n)\n",
    "    x, y = np.meshgrid(res, res)\n",
    "    x_flat = x.reshape(1, nn)\n",
    "    y_flat = y.reshape(1, nn)\n",
    "    x1_flat = np.vstack((np.ones(nn), x_flat.squeeze()))\n",
    "    mu_flat = np.dot(phi.T, x1_flat)\n",
    "    lg_pdf = spst.norm(mu_flat, sg).pdf(y_flat).reshape((n, n))\n",
    "    lg_pdf = np.flipud(lg_pdf)\n",
    "    plt.imshow(lg_pdf, extent=[-20, 20, -20, 20])\n",
    "\n",
    "def maximum_likelihood_inference(x, w):\n",
    "    phi = np.dot(np.linalg.inv(np.dot(x, x.T)), np.dot(x, w.T))\n",
    "    delta = w - np.dot(phi.T, x)\n",
    "    sg2 = (delta ** 2).mean()\n",
    "    sg = np.sqrt(sg2)\n",
    "    return phi, sg\n",
    "\n",
    "def evaluate_average_log_likelihood(x, w, phi, sg):\n",
    "    likelhd = spst.norm(np.dot(phi.T, x), sg).pdf(w)\n",
    "    log_likelhd = np.log(likelhd)\n",
    "    ave_log_likehd = log_likelhd.mean()\n",
    "    return ave_log_likehd"
   ]
  },
  {
   "cell_type": "code",
   "execution_count": null,
   "metadata": {
    "collapsed": true
   },
   "outputs": [],
   "source": [
    "ns = 50\n",
    "x_range = np.array([-10., 10.])\n",
    "sg, phi = generate_nice_params()\n",
    "plt.rcParams['figure.figsize'] = (8.0, 9.0)\n",
    "\n",
    "x, w, smp = generate_samples(x_range, sg, phi, ns)\n",
    "ax = plt.subplot(2,2,1)\n",
    "plot_samples(x, w, phi)\n",
    "ave_log_likehd_true = evaluate_average_log_likelihood(x, w, phi, sg)\n",
    "plt.title(\"Ave Log LKLHD = {:1.4f}\".format(ave_log_likehd_true))\n",
    "plt.xlim(x_range)\n",
    "ybound = ax.get_ybound()\n",
    "\n",
    "phie, sge = maximum_likelihood_inference(x, w)\n",
    "plt.subplot(2,2,2)\n",
    "plot_samples(x, w, phie)\n",
    "ave_log_likehd_infr = evaluate_average_log_likelihood(x, w, phie, sge)\n",
    "plt.title(\"Ave Log LKLHD = {:1.4f}\".format(ave_log_likehd_infr))\n",
    "plt.xlim(x_range)\n",
    "plt.ylim(*ybound)\n",
    "\n",
    "plt.subplot(2,2,3)\n",
    "plot_lg_pdf(phi, sg)\n",
    "plt.xlim(x_range)\n",
    "plt.ylim(*ybound)\n",
    "plt.title(\"grnd_truth\")\n",
    "\n",
    "plt.subplot(2,2,4)\n",
    "plot_lg_pdf(phie, sge)\n",
    "plt.xlim(x_range)\n",
    "plt.ylim(*ybound)\n",
    "plt.title(\"inference\")\n",
    "\n",
    "print(\"true: sg = {0:1.4f}, phi = [{1:1.4f}, {2:1.4f}]\".format(sg, phi[0][0], phi[1][0]))\n",
    "print(\"infr: sg = {0:1.4f}, phi = [{1:1.4f}, {2:1.4f}]\".format(sge, phie[0][0], phie[1][0]))"
   ]
  },
  {
   "cell_type": "code",
   "execution_count": null,
   "metadata": {
    "collapsed": true
   },
   "outputs": [],
   "source": []
  },
  {
   "cell_type": "markdown",
   "metadata": {},
   "source": [
    "## Bayesian linear regression"
   ]
  },
  {
   "cell_type": "markdown",
   "metadata": {},
   "source": [
    "\n",
    "The likelihood reads as follows.\n",
    "$$\\begin{align}\n",
    "p(\\Theta|\\mathbf{X}, \\mathbf{w}) \\quad & = &\\quad \\frac{p(\\mathbf{w}|\\mathbf{X}, \\Theta)p(\\Theta)}{p(\\mathbf{w}|\\mathbf{X})}\n",
    "\\end{align}$$\n",
    "Suppose we know $\\sigma$,\n",
    "$$\\begin{align}\n",
    "p(\\phi|\\mathbf{X}, \\mathbf{w}, \\sigma) \\quad & = &\\quad \\frac{p(\\mathbf{w}|\\mathbf{X}, \\phi, \\sigma)p(\\phi)}{p(\\mathbf{w}|\\mathbf{X})}\n",
    "\\end{align}$$\n",
    "Here we perform the maximum likelihood estimations for $\\Theta$.\n",
    "Suppose $\\mathbf{x}_{i} = (1, \\tilde{\\mathbf{x}}_{i}^{T})^{T}$, $\\mathbf{X} = (\\mathbf{x}_{1}, \\cdots, \\mathbf{x}_{N})$, $\\mathbf{w} = (w_{1}, \\cdots, w_{N})^{T}$,  $\\Theta = (\\phi_{0}, \\phi_{1}, \\sigma)$ and $\\mathbf{\\phi} = (\\phi_{0}, \\phi_{1})^{T}$\n",
    "\n",
    "\n",
    "$$\\begin{align}\n",
    "\\mathbf{X} \\quad & : &\\quad (D \\times N)\\\\\n",
    "\\mathbf{w} \\quad & : &\\quad (N \\times 1)\\\\\n",
    "\\mathbf{\\phi} \\quad & : &\\quad (D \\times 1)\\\\\n",
    "\\end{align}$$\n",
    "\n",
    "$$\\begin{align}\n",
    "prior :\\qquad p(\\phi) \\quad & = &\\quad Norm_{\\phi}(\\mathbf{0}, \\sigma_{p}^{2}\\mathbf{I}_{D \\times D}) \\quad & = &\\quad \\#'\n",
    "exp \\bigg(-\\frac{\\mathbf{\\phi}^{T} \\mathbf{\\phi}}{2\\sigma_{p}^{2}}\\bigg)\\\\\n",
    "likelihood :\\qquad p(\\mathbf{w}|\\mathbf{X}, \\Theta) \\quad & = &\\quad Norm_{\\mathbf{w}}(\\mathbf{X}^{T}\\phi, \\sigma\\mathbf{I}_{N \\times N}) \\quad & = &\\quad  \\#\n",
    "exp \\bigg(-\\frac{(\\mathbf{w} - \\mathbf{X}^{T}\\phi)^{T}(\\mathbf{w} - \\mathbf{X}^{T}\\phi)}{2\\sigma^{2}} \\bigg)\n",
    "\\end{align}$$\n",
    "\n",
    "$$\\begin{align}\n",
    "p(\\mathbf{w}|\\mathbf{X}, \\phi, \\sigma)p(\\phi) \\quad & = &\\quad Norm_{\\mathbf{w}}(\\mathbf{0}, \\sigma^{2} + \\sigma_{p}^{2}\\mathbf{X}^{T}\\mathbf{X}) Norm_{\\mathbf{\\phi}}\\bigg(\\frac{1}{\\sigma^{2}}C^{-1}\\mathbf{X}\\mathbf{w}, C^{-1}\\bigg)\\\\\n",
    "evidence :\\qquad p(\\mathbf{w}|\\mathbf{X}) \\quad & = &\\quad Norm_{\\mathbf{w}}(\\mathbf{0}, \\sigma^{2} + \\sigma_{p}^{2}\\mathbf{X}^{T}\\mathbf{X})\\\\\n",
    "posterior :\\qquad p(\\phi|\\mathbf{X}, \\mathbf{w}, \\sigma) \\quad & = &\\quad Norm_{\\mathbf{\\phi}}\\bigg(\\frac{1}{\\sigma^{2}}C^{-1}\\mathbf{X}\\mathbf{w}, C^{-1}\\bigg)\n",
    "\\end{align}$$\n",
    ", where $C$ is\n",
    "$$\\begin{align}\n",
    "C \\quad & \\equiv & \\quad \\frac{1}{\\sigma_{p}^{2}}\\mathbf{I} + \\frac{1}{\\sigma^{2}}\\mathbf{X}\\mathbf{X}^{T}\\\\\n",
    "C^{-1} \\quad & = &\\quad \\sigma_{p}^{2}\\mathbf{I}_{D \\times D} -  \\sigma_{p}^{2} \\mathbf{X}\\bigg(\\mathbf{X}^{T}\\mathbf{X} +\\frac{\\sigma^{2}}{\\sigma_{p}^{2}}\\mathbf{I}_{N \\times N}\\bigg)^{-1}\\mathbf{X}^{T}\n",
    "\\end{align}$$\n",
    "The derivation should remind us of the relations from the section on the factor analysis.\n",
    "<br>\n",
    "<br>\n",
    "Now, suppose we would like to compute the predictive probability distribution over $w^{*}$ for a new observation $\\mathbf{x}^{*}$ based on the posterior obtained above.\n",
    "$$\\begin{align}\n",
    "p(w^{*}|\\mathbf{x}^{*}, \\mathbf{X}, \\mathbf{w}, \\sigma) \\quad & = &\\quad \\int d\\mathbf{\\phi} p(w^{*}|\\mathbf{x}^{*}, \\phi, \\sigma)p(\\phi|\\mathbf{X}, \\mathbf{w}, \\sigma)\\\\\n",
    "\\quad & = &\\quad \\int d\\mathbf{\\phi} Norm_{\\mathbf{w}}(\\mathbf{\\phi}^{T}\\mathbf{x}^{*}, \\sigma^{2}) Norm_{\\mathbf{\\phi}}\\bigg(\\frac{1}{\\sigma^{2}}C^{-1}\\mathbf{X}\\mathbf{w}, C^{-1}\\bigg)\\\\\n",
    "\\quad & = &\\quad Norm_{w^{*}}\\bigg(\\frac{1}{\\sigma^{2}}\\mathbf{x}^{*T}C^{-1}\\mathbf{X}\\mathbf{w}, \\quad \\mathbf{x}^{*T}C^{-1}\\mathbf{x}^{*} + \\sigma^{2}\\bigg)\\\\\n",
    "\\end{align}$$\n",
    "<br>"
   ]
  },
  {
   "cell_type": "code",
   "execution_count": 1,
   "metadata": {
    "collapsed": true
   },
   "outputs": [],
   "source": [
    "import numpy as np\n",
    "import matplotlib.pyplot as plt\n",
    "import scipy.special as spsp\n",
    "import scipy.stats as spst\n",
    "%matplotlib inline\n",
    "\n",
    "# usual gangs"
   ]
  },
  {
   "cell_type": "code",
   "execution_count": 2,
   "metadata": {
    "collapsed": true
   },
   "outputs": [],
   "source": [
    "# this function outputs an covariance matrices avoiding generating too much squashed ellipses\n",
    "def generate_nice_params():\n",
    "    # sg = 1 x 1\n",
    "    # sgp = 1 x 1\n",
    "    # phi = D x 1\n",
    "    sg = 2 * np.random.rand() + 0.5\n",
    "    sgp = 2 * np.random.rand() + 0.5\n",
    "    phi1 = 3 * (np.random.rand() - .5)\n",
    "    phi0 = 2 * (np.random.rand() - .5)\n",
    "    phi = np.vstack((phi0, phi1))\n",
    "    return sg, phi, sgp\n",
    "\n",
    "def generate_samples(x_range, sg, phi, ns):\n",
    "    # w = 1 x N\n",
    "    # x = D x N\n",
    "    # phi = D x 1\n",
    "    # mid = N x N\n",
    "    # cinv = D x D\n",
    "    x = np.random.rand(ns)\n",
    "    x *= (x_range[1] - x_range[0])\n",
    "    x += x_range[0]\n",
    "    x = np.vstack((np.ones(ns), x))\n",
    "    w  = np.dot(phi.T, x)\n",
    "    w += np.random.randn(ns) * sg\n",
    "    w = w.T\n",
    "    return x, w\n",
    "\n",
    "def plot_samples(x, w, phi, clr=(0.8, 0.4, 0.0), lwd=2):\n",
    "    line_x = np.array([[1., 1.], [-10, 10]])\n",
    "    plt.plot(x[1], w.squeeze(), 'b.', markersize=5.)\n",
    "    plt.plot(line_x[1], np.dot(phi.T, line_x).squeeze(), ls='-', lw = lwd, color=clr) \n",
    "\n",
    "def plot_rg_pdf(phi, sg, n):\n",
    "    nn = n**2\n",
    "    res = np.linspace(-20, 20, n)\n",
    "    x, y = np.meshgrid(res, res)\n",
    "    x_flat = x.reshape(1, nn)\n",
    "    y_flat = y.reshape(1, nn)\n",
    "    x1_flat = np.vstack((np.ones(nn), x_flat.squeeze()))\n",
    "    mu_flat = np.dot(phi.T, x1_flat)\n",
    "    rg_pdf = spst.norm(mu_flat, sg).pdf(y_flat).reshape((n, n))\n",
    "    rg_pdf = np.flipud(rg_pdf)\n",
    "    plt.imshow(rg_pdf, extent=[-15, 15, -15, 15])\n",
    "    \n",
    "def Cinv(x, w, sg, sgp):\n",
    "    # w = N x 1\n",
    "    # x = D x N\n",
    "    # mid = N x N\n",
    "    # cinv = D x D\n",
    "    D = x.shape[0]\n",
    "    N = x.shape[1]\n",
    "    sgs = sg**2\n",
    "    sgps = sgp**2\n",
    "    mid = np.dot(x.T, x)\n",
    "    mid += (sgs / sgps) * np.eye(N)\n",
    "    midinv = np.linalg.inv(mid)\n",
    "    cinv = np.eye(D)\n",
    "    cinv -= np.dot(np.dot(x, midinv), x.T)\n",
    "    cinv *= sgps\n",
    "    return cinv\n",
    "\n",
    "def bayesian_inference(xs1, x, w, sg, sgp):\n",
    "    # w = N x 1\n",
    "    # x = D x N\n",
    "    # xs1 = D x N\n",
    "    # phi = D x 1\n",
    "    # cinv = D x D\n",
    "    # mu = N x 1\n",
    "    # cov = N x N\n",
    "    D = xs1.shape[0]\n",
    "    N = xs1.shape[1]\n",
    "    sgs = sg**2\n",
    "    cinv = Cinv(x, w, sg, sgp)\n",
    "    phi = np.dot(np.dot(cinv, x), w) / sgs\n",
    "    mu = np.dot(xs1.T, phi).squeeze()\n",
    "    # doing double np.dot then taking np.diag would be costly. instead we do this.\n",
    "    cov = (np.dot(cinv.T, xs1) * xs1).sum(axis=0)\n",
    "    cov += sgs\n",
    "    return mu, cov, phi, cinv\n",
    "\n",
    "def generate_phi_pdf(phimu, phisg, nres, bb):\n",
    "    res = np.linspace(-bb, bb, nres)\n",
    "    p0g, p1g = np.meshgrid(res, res)\n",
    "    p0s = p0g.reshape(1, nres ** 2)\n",
    "    p1s = p1g.reshape(1, nres ** 2)\n",
    "    ps = np.vstack((p0s, p1s))\n",
    "    phi_pdf = spst.multivariate_normal(phimu, phisg).pdf(ps.T).reshape((nres, nres))\n",
    "    return phi_pdf\n",
    "\n"
   ]
  },
  {
   "cell_type": "code",
   "execution_count": 57,
   "metadata": {},
   "outputs": [
    {
     "data": {
      "text/plain": [
       "<matplotlib.text.Text at 0x122eda0f0>"
      ]
     },
     "execution_count": 57,
     "metadata": {},
     "output_type": "execute_result"
    },
    {
     "data": {
      "image/png": "[encoded data removed]",
      "text/plain": [
       "<matplotlib.figure.Figure at 0x12019e780>"
      ]
     },
     "metadata": {},
     "output_type": "display_data"
    }
   ],
   "source": [
    "ns = 5\n",
    "x_range = np.array([-10., 10.])\n",
    "sg, phi, sgp = generate_nice_params()\n",
    "plt.rcParams['figure.figsize'] = (12.0, 4.0)\n",
    "\n",
    "x, w = generate_samples(x_range, sg, phi, ns)\n",
    "plt.subplot(1,3,1)\n",
    "plot_samples(x, w, phi)\n",
    "plt.xlim(x_range)\n",
    "plt.ylim(1.5*x_range)\n",
    "\n",
    "nres = 201\n",
    "plt.subplot(1,3,2)\n",
    "plot_rg_pdf(phi, sg, nres)\n",
    "plt.xlim(x_range)\n",
    "plt.ylim(1.5*x_range)\n",
    "plt.title(\"grnd_truth\")\n",
    "\n",
    "nres = 201\n",
    "res = np.linspace(-15, 15, nres)\n",
    "xg, yg = np.meshgrid(res, res)\n",
    "xs = xg.reshape(1, nres ** 2)\n",
    "ys = yg.reshape(1, nres ** 2)\n",
    "xs1 = np.vstack((np.ones(xs.shape[1]), xs))\n",
    "mu, cov, phi, cinv = bayesian_inference(xs1, x, w, sg, sgp)\n",
    "brg_pdf = spst.norm(mu, cov).pdf(ys.squeeze()).reshape((nres, nres))\n",
    "\n",
    "plt.subplot(1,3,3)\n",
    "rg_pdf = np.flipud(brg_pdf)\n",
    "plt.imshow(rg_pdf, extent=[-15, 15, -15, 15])\n",
    "plt.xlim(x_range)\n",
    "plt.ylim(1.5*x_range)\n",
    "plt.title(\"inference\")"
   ]
  },
  {
   "cell_type": "code",
   "execution_count": 58,
   "metadata": {},
   "outputs": [
    {
     "data": {
      "text/plain": [
       "<matplotlib.text.Text at 0x122f7c550>"
      ]
     },
     "execution_count": 58,
     "metadata": {},
     "output_type": "execute_result"
    },
    {
     "data": {
      "image/png": "[encoded data removed]",
      "text/plain": [
       "<matplotlib.figure.Figure at 0x12019e160>"
      ]
     },
     "metadata": {},
     "output_type": "display_data"
    }
   ],
   "source": [
    "plt.rcParams['figure.figsize'] = (8.0, 4.0)\n",
    "\n",
    "nres = 101\n",
    "phi_prior_pdf = generate_phi_pdf(np.zeros(2), sgp*np.eye(2), nres, 3)\n",
    "plt.subplot(1,2,1)\n",
    "plt.imshow(phi_prior_pdf , extent=[-2, 2, -2, 2])\n",
    "plt.title(\"phi_prior\")\n",
    "\n",
    "phi_posterior_pdf = generate_phi_pdf(phi.squeeze(), cinv, nres, 3)\n",
    "plt.subplot(1,2,2)\n",
    "plt.imshow(phi_posterior_pdf, extent=[-2, 2, -2, 2])\n",
    "plt.title(\"phi_posterior\")"
   ]
  },
  {
   "cell_type": "code",
   "execution_count": null,
   "metadata": {
    "collapsed": true
   },
   "outputs": [],
   "source": []
  },
  {
   "cell_type": "code",
   "execution_count": null,
   "metadata": {
    "collapsed": true
   },
   "outputs": [],
   "source": []
  },
  {
   "cell_type": "markdown",
   "metadata": {},
   "source": [
    "## Non-linear regression"
   ]
  },
  {
   "cell_type": "markdown",
   "metadata": {},
   "source": [
    "## Kernels and the kerneltrick"
   ]
  },
  {
   "cell_type": "markdown",
   "metadata": {},
   "source": [
    "## Gaussian process regression"
   ]
  },
  {
   "cell_type": "markdown",
   "metadata": {},
   "source": [
    "## Sparse linear regression"
   ]
  },
  {
   "cell_type": "markdown",
   "metadata": {},
   "source": [
    "## Dual linear regression"
   ]
  },
  {
   "cell_type": "markdown",
   "metadata": {},
   "source": [
    "## Relevance vector regression"
   ]
  },
  {
   "cell_type": "markdown",
   "metadata": {},
   "source": [
    "## Regression to multivariate data"
   ]
  },
  {
   "cell_type": "code",
   "execution_count": null,
   "metadata": {
    "collapsed": true
   },
   "outputs": [],
   "source": []
  },
  {
   "cell_type": "code",
   "execution_count": null,
   "metadata": {
    "collapsed": true
   },
   "outputs": [],
   "source": []
  },
  {
   "cell_type": "code",
   "execution_count": null,
   "metadata": {
    "collapsed": true
   },
   "outputs": [],
   "source": []
  },
  {
   "cell_type": "code",
   "execution_count": null,
   "metadata": {
    "collapsed": true
   },
   "outputs": [],
   "source": []
  }
 ],
 "metadata": {
  "kernelspec": {
   "display_name": "Python 3",
   "language": "python",
   "name": "python3"
  },
  "language_info": {
   "codemirror_mode": {
    "name": "ipython",
    "version": 3
   },
   "file_extension": ".py",
   "mimetype": "text/x-python",
   "name": "python",
   "nbconvert_exporter": "python",
   "pygments_lexer": "ipython3",
   "version": "3.6.1"
  }
 },
 "nbformat": 4,
 "nbformat_minor": 2
}

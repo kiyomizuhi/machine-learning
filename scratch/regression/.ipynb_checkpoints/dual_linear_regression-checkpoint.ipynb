{
 "cells": [
  {
   "cell_type": "markdown",
   "metadata": {
    "collapsed": true
   },
   "source": [
    "# Regression Models"
   ]
  },
  {
   "cell_type": "markdown",
   "metadata": {},
   "source": [
    "Regression aims to estimate the world state $w$ for a given observations $\\mathbf{x}$ by modeling $P(w|\\mathbf{x})$ based on obtained data $\\{\\mathbf{x}_{i}, w_{i}\\}_{i=1}^N$."
   ]
  },
  {
   "cell_type": "markdown",
   "metadata": {},
   "source": [
    "## Table of contents:\n",
    "* [Maximum Likelihood Linear Regression](#ml-linear-regression)\n",
    "* [Bayesian linear regression](#bayesian-linear-regression)\n",
    "* [Non-linear regression - Maximum Likelihood](#non-linear-regression-ml)\n",
    "* [Non-linear regression - Bayesian Inference](#non-linear-regression-bayes)\n",
    "* [Kernels and Gaussian process regression](#kernel-gaussian-process-regression)\n",
    "* [Sparse linear regression](#sparse-linear-regression)\n",
    "* [Dual linear regression](#dual-linear-regression)\n",
    "* [Relevance vector regression](#relevant-vector-regression)\n",
    "* [Regression to multivariate data](#multivariate-data)"
   ]
  },
  {
   "cell_type": "markdown",
   "metadata": {},
   "source": [
    "# Dual linear regression <a class=\"anchor\" id=\"dual-linear-regression\"></a>"
   ]
  },
  {
   "cell_type": "code",
   "execution_count": null,
   "metadata": {
    "collapsed": true
   },
   "outputs": [],
   "source": [
    "import numpy as np\n",
    "import matplotlib.pyplot as plt\n",
    "import scipy.special as spsp\n",
    "import scipy.stats as spst\n",
    "%matplotlib inline\n",
    "\n",
    "# usual gangs"
   ]
  },
  {
   "cell_type": "code",
   "execution_count": 559,
   "metadata": {
    "collapsed": true
   },
   "outputs": [],
   "source": [
    "def generate_nice_params(ng, intvl):\n",
    "    \"\"\"\n",
    "    Arguments:\n",
    "        ng:    scalar. number of gaussians.\n",
    "        intvl: scalar. distance between the means of gaussians.\n",
    "\n",
    "    Output:\n",
    "        lmd: scalar. std of the gaussians.\n",
    "        wgt: weight distribution of the gaussians.  (ng+1, )\n",
    "        sg:  scalar. noise rides on top of the generated curve.\n",
    "    \"\"\"\n",
    "    lmd = intvl + (np.random.rand() - .5)\n",
    "    wgt = 3 * np.random.rand(ng + 1) + .5\n",
    "    sg = 0.1 * wgt.mean()\n",
    "    wgt *= np.random.choice([-1, 1], ng + 1)\n",
    "    wgt[0] = np.random.rand() - .5\n",
    "    return lmd, wgt, sg\n",
    "\n",
    "\n",
    "def generate_samples(ng, nx, ns, wgt, lmd, sg, x):\n",
    "    \"\"\"\n",
    "    Arguments:\n",
    "        ng:   scalar. number of gaussians.\n",
    "        nx:   scalar. number of points between xlim (-10. and +10.) -> grid.\n",
    "        ns:   scalar. number of samples\n",
    "        wgt:  weight distribution of the gaussians.  (ng+1, )\n",
    "        lmd:  scalar. std of the gaussians.\n",
    "        sg:   scalar. noise rides on top of the generated curve.\n",
    "        x:    x coodinates of the grid.\n",
    "    \n",
    "    Output:\n",
    "        bases:     The basis gaussians on the grid. (ng+1 x nx) 1 for bias.\n",
    "        bases_smp: The basis gaussians sampled from the grid. (ng x ns) \n",
    "        grdtr:     The generated curve. ground truth. (1, ng)\n",
    "        cntrs:     The centers of the gaussians. (ng, )\n",
    "        xs:        sampled x (ns, ) \n",
    "        smp:       sampled from grdtr added with sg noise, (ns, )\n",
    "        \n",
    "    \"\"\"\n",
    "    cntrs = np.arange(-lmd * (ng - 1) / 2, lmd * (ng + 1) / 2, lmd)\n",
    "    bases = np.zeros((ng + 1, nx))\n",
    "    bases[0, :] = np.ones(nx)\n",
    "    for i in range(1, ng + 1, 1):\n",
    "        bases[i, :] = spst.norm.pdf(x, cntrs[i - 1], 0.4 * lmd)\n",
    "    grdtr = np.dot(wgt[np.newaxis, :], bases)\n",
    "    idx = np.random.choice(np.arange(nx), ns, replace=False)\n",
    "    idx.sort()\n",
    "    xs = x[idx]\n",
    "    smp = grdtr[:, idx] + np.random.normal(0, sg, ns)\n",
    "    bases_smp = bases[:, idx]\n",
    "    return bases, bases_smp, grdtr, cntrs, xs, smp.T\n",
    "\n",
    "\n",
    "def plot_samples(x, wgt, bases, grdtr, xs, smp):\n",
    "    \"\"\"\n",
    "    Arguments:\n",
    "        x:     x coodinates of the grid.\n",
    "        wgt:   weight distribution of the gaussians.  (ng+1, )\n",
    "        bases: The basis gaussians on the grid. (ng+1 x nx) 1 for bias.\n",
    "        grdtr: The generated curve. ground truth. (1, ng)\n",
    "        xs:    sampled x. (ns, )\n",
    "        smp:   sampled from grdtr (ns, )\n",
    "    \n",
    "    Output:\n",
    "        plot of grdtr, wgt * bases, smp\n",
    "        \n",
    "    \"\"\"\n",
    "    for i in range(1, bases.shape[0]):\n",
    "        plt.plot(x, wgt[i] * bases[i], '-')\n",
    "    plt.plot(x, grdtr.squeeze(), 'k-', lw = 3)\n",
    "    plt.plot(xs, smp.squeeze(), 'k.', markersize = 10)\n",
    "    plt.xlabel(\"x\")\n",
    "    plt.ylabel(\"w\")\n",
    "\n",
    "\n",
    "def evaluate_sigma(z, w, sgp, sg):\n",
    "    \"\"\"\n",
    "    Arguments:\n",
    "        z:     bases_smp. z coodinates of the samp. (ng+1 x ns)\n",
    "        w:     smp. sampled from grdtr added with sg noise, (ns, )\n",
    "        sgp:   scalar. prior std.\n",
    "        sg:    sg candidates. (100, )\n",
    "    \n",
    "    Output:\n",
    "        sg_eval: evaluated argument of evidence p(w|X,σ) for each sg. (100, )\n",
    "        \n",
    "    \"\"\"\n",
    "    # w = N x 1\n",
    "    # z = D x N\n",
    "    # sg = S x 1\n",
    "    sgs = sg**2\n",
    "    sgps = sgp**2\n",
    "    sg_eval = np.zeros(sg.shape[0])\n",
    "    zs_cache = sgps * np.dot(z.T, z)\n",
    "    for i in range(sg.shape[0]):\n",
    "        zsgs = zs_cache + sgs[i] * np.eye(z.shape[1])\n",
    "        zsgsinv = np.linalg.inv(zsgs)\n",
    "        sg_eval[i] = (np.dot(zsgsinv, w) * w).sum()\n",
    "        sg_eval[i] += np.log(np.linalg.det(zsgs))\n",
    "    return sg_eval\n",
    "\n",
    "\n",
    "def plot_lg_pdf(wgt, sg, cntrs, lmd, nres):\n",
    "    \"\"\"\n",
    "    Arguments:\n",
    "        wgt:   weight distribution of the gaussians.  (ng+1, )\n",
    "        sg:    scalar. std of the noise riding on top of grndtr.\n",
    "        cntrs: the centers of the gaussians. (ng, )\n",
    "        lmd:   scalar. std of the gaussians.\n",
    "        nres:  resolution of the image.\n",
    "    \n",
    "    Output:\n",
    "        plot.\n",
    "    \"\"\"\n",
    "    nn = nres**2\n",
    "    xres = np.linspace(-10, 10, nres)\n",
    "    yres = np.linspace(-2, 2, nres)\n",
    "    yg, xg = np.meshgrid(yres, xres)\n",
    "    x_flat = xg.reshape(1, nn)\n",
    "    y_flat = yg.reshape(1, nn)\n",
    "    bases = np.zeros((ng + 1, nn))\n",
    "    bases[0, :] = np.ones(nn)\n",
    "    for i in range(1, ng + 1, 1):\n",
    "        bases[i, :] = spst.norm.pdf(x_flat.squeeze(), cntrs[i - 1], 0.4 * lmd)\n",
    "    mu_flat = np.dot(wgt.T, bases).squeeze()\n",
    "    lg_pdf = spst.norm.pdf(y_flat, mu_flat, sg).reshape((nres, nres))\n",
    "    lg_pdf = np.flipud(lg_pdf.T)\n",
    "    plt.imshow(lg_pdf, extent=[-10, 10, -2, 2])\n",
    "\n",
    "\n",
    "def Cinv(z, w, sg, sgp):\n",
    "    \"\"\"\n",
    "    Arguments:\n",
    "        z:     bases_smp. z coodinates of the samp. (ng+1 x ns)\n",
    "        w:     smp. sampled from grdtr added with sg noise, (ns, )\n",
    "        sgp:   scalar. prior std.\n",
    "        sg:    sg candidates. (100, )\n",
    "    \n",
    "    Output:\n",
    "        cinv:  inverse of C (ng+1 x ng+1)\n",
    "        \n",
    "    \"\"\"\n",
    "    # z : D x N\n",
    "    # w : N\n",
    "    # cinv : D x D\n",
    "    D = z.shape[0]\n",
    "    N = z.shape[1]\n",
    "    sgs = sg**2\n",
    "    sgps = sgp**2\n",
    "    mid = np.dot(z.T, z)\n",
    "    mid += (sgs / sgps) * np.eye(N)\n",
    "    midinv = np.linalg.inv(mid)\n",
    "    cinv = np.eye(D)\n",
    "    cinv -= np.dot(np.dot(z, midinv), z.T)\n",
    "    cinv *= sgps\n",
    "    return cinv\n",
    "\n",
    "\n",
    "def bayesian_inference(zs, z, w, sg, sgp):\n",
    "    \"\"\"\n",
    "    Arguments:\n",
    "        zs:    z star. (ng+1 x nres**2) D x N*\n",
    "        z:     bases_smp. z coodinates of the samp. (ng+1 x ns)\n",
    "        w:     smp. sampled from grdtr added with sg noise, (ns, )\n",
    "        sgp:   scalar. prior std.\n",
    "        sg:    sg candidates. (100, )\n",
    "    \n",
    "    Output:\n",
    "        cinv:  inverse of C (ng+1 x ng+1)\n",
    "        \n",
    "    \"\"\"\n",
    "    # w = N x 1\n",
    "    # z = D x N\n",
    "    # zs = D x N*\n",
    "    # phi = D x 1\n",
    "    # cinv = D x D\n",
    "    # mu = N* x 1\n",
    "    # cov = N* x 1\n",
    "    D = z.shape[0]\n",
    "    N = z.shape[1]\n",
    "    sgs = sg**2\n",
    "    cinv = Cinv(z, w, sg, sgp)\n",
    "    phi = np.dot(np.dot(cinv, z), w) / sgs\n",
    "    mu = np.dot(zs.T, phi).squeeze()\n",
    "    # doing double np.dot then taking np.diag would be costly. instead we do this.\n",
    "    cov = (np.dot(cinv, zs) * zs).sum(axis=0)\n",
    "    cov += sgs\n",
    "    cov = np.sqrt(cov)\n",
    "    return mu, cov, phi, cinv\n",
    "\n"
   ]
  },
  {
   "cell_type": "code",
   "execution_count": 560,
   "metadata": {},
   "outputs": [
    {
     "name": "stdout",
     "output_type": "stream",
     "text": [
      "rough scan :  0.4\n",
      " fine scan :  0.35\n",
      "true  : sg = 0.2534 \n",
      "infer : sg = 0.3500\n"
     ]
    },
    {
     "data": {
      "image/png": "[encoded data removed]",
      "text/plain": [
       "<matplotlib.figure.Figure at 0x11cec4550>"
      ]
     },
     "metadata": {},
     "output_type": "display_data"
    }
   ],
   "source": [
    "ns = 15\n",
    "sgp = 50\n",
    "ng = 5\n",
    "nx = 201\n",
    "\n",
    "x_range = np.array([-10., 10.])\n",
    "x = np.linspace(-10, 10, nx)\n",
    "span = x_range[1] - x_range[0]\n",
    "intvl = span / (ng + 1)\n",
    "\n",
    "lmd, wgt, sg = generate_nice_params(ng, intvl)\n",
    "bases, bases_smp, grdtr, cntrs, xs, smp = generate_samples(ng, nx, ns, wgt, lmd, sg, x)\n",
    "\n",
    "\n",
    "plt.rcParams['figure.figsize'] = (12.0, 4.0)\n",
    "plt.subplot(1,3,1)\n",
    "plot_samples(x, wgt, bases, grdtr, xs, smp)\n",
    "plt.xlim(x_range)\n",
    "plt.ylim([-2., 2.])\n",
    "plt.xlabel(\"x\")\n",
    "plt.ylabel(\"w\")\n",
    "\n",
    "s1 = 0.1\n",
    "s2 = 10.0\n",
    "sg_candid = np.linspace(s1, s2, 100)\n",
    "sg_eval = evaluate_sigma(bases_smp, smp, sgp, sg_candid)\n",
    "plt.subplot(1,3,2)\n",
    "plt.plot(sg_candid, sg_eval, 'b.-')\n",
    "\n",
    "idx = np.where(sg_eval == sg_eval.min())[0][0]\n",
    "sg_inf = sg_candid[idx]\n",
    "print('rough scan : ', sg_inf)\n",
    "\n",
    "s1 = 0.1\n",
    "s2 = 3.1\n",
    "plt.subplot(1,3,3)\n",
    "sg_candid = np.linspace(s1, s2, 301)\n",
    "sg_eval = evaluate_sigma(bases_smp, smp, sgp, sg_candid)\n",
    "plt.plot(sg_candid, sg_eval, 'b.-')\n",
    "\n",
    "idx = np.where(sg_eval == sg_eval.min())[0][0]\n",
    "sg_inf = sg_candid[idx]\n",
    "print(' fine scan : ', sg_inf)\n",
    "\n",
    "print(\"true  : sg = {0:1.4f} \\ninfer : sg = {1:1.4f}\".format(sg, sg_inf))\n",
    "sge = sg_inf"
   ]
  },
  {
   "cell_type": "code",
   "execution_count": null,
   "metadata": {
    "collapsed": true
   },
   "outputs": [],
   "source": []
  },
  {
   "cell_type": "code",
   "execution_count": null,
   "metadata": {
    "collapsed": true
   },
   "outputs": [],
   "source": []
  },
  {
   "cell_type": "code",
   "execution_count": null,
   "metadata": {
    "collapsed": true
   },
   "outputs": [],
   "source": []
  },
  {
   "cell_type": "code",
   "execution_count": null,
   "metadata": {
    "collapsed": true
   },
   "outputs": [],
   "source": []
  },
  {
   "cell_type": "code",
   "execution_count": null,
   "metadata": {
    "collapsed": true
   },
   "outputs": [],
   "source": []
  },
  {
   "cell_type": "code",
   "execution_count": null,
   "metadata": {
    "collapsed": true
   },
   "outputs": [],
   "source": []
  },
  {
   "cell_type": "code",
   "execution_count": null,
   "metadata": {
    "collapsed": true
   },
   "outputs": [],
   "source": []
  },
  {
   "cell_type": "code",
   "execution_count": null,
   "metadata": {
    "collapsed": true
   },
   "outputs": [],
   "source": []
  },
  {
   "cell_type": "markdown",
   "metadata": {},
   "source": [
    "# Relevance vector regression <a class=\"anchor\" id=\"relevant-vector-regression\"></a>"
   ]
  },
  {
   "cell_type": "code",
   "execution_count": null,
   "metadata": {
    "collapsed": true
   },
   "outputs": [],
   "source": []
  },
  {
   "cell_type": "code",
   "execution_count": null,
   "metadata": {
    "collapsed": true
   },
   "outputs": [],
   "source": []
  },
  {
   "cell_type": "code",
   "execution_count": null,
   "metadata": {
    "collapsed": true
   },
   "outputs": [],
   "source": []
  },
  {
   "cell_type": "code",
   "execution_count": null,
   "metadata": {
    "collapsed": true
   },
   "outputs": [],
   "source": []
  }
 ],
 "metadata": {
  "kernelspec": {
   "display_name": "Python 3",
   "language": "python",
   "name": "python3"
  },
  "language_info": {
   "codemirror_mode": {
    "name": "ipython",
    "version": 3
   },
   "file_extension": ".py",
   "mimetype": "text/x-python",
   "name": "python",
   "nbconvert_exporter": "python",
   "pygments_lexer": "ipython3",
   "version": "3.6.1"
  }
 },
 "nbformat": 4,
 "nbformat_minor": 2
}

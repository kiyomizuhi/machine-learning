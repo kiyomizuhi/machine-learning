{
 "cells": [
  {
   "cell_type": "markdown",
   "metadata": {},
   "source": [
    "# Gradient Descent Optimization"
   ]
  },
  {
   "cell_type": "markdown",
   "metadata": {},
   "source": [
    "## Table of contents:\n",
    "* [Vanilla Gradient Descent](#vanilla)\n",
    "* [Stochastic Gradient Descent](#sgd)\n",
    "* [Minibatch Gradient Descent](#minibatch)\n",
    "* [Momentum](#momentum)\n",
    "* [Nesterov Momentum](#nag)\n",
    "* [Adagrad](#nag)\n",
    "* [RMS Prop](#rms)\n",
    "* [Adam](#adam)"
   ]
  },
  {
   "cell_type": "markdown",
   "metadata": {},
   "source": [
    "# Non-linear logistic regression"
   ]
  },
  {
   "cell_type": "markdown",
   "metadata": {
    "collapsed": true
   },
   "source": [
    "In the linear logistic regressions for 2-class classifications, we employed such bases, using $\\mathbf{x} \\leftarrow \\big[1, \\mathbf{x}^{T} \\big]^{T}$ and $\\mathbf{\\phi} \\leftarrow \\big[\\phi_{0},\\mathbf{\\phi}^{T} \\big]^{T}$,\n",
    "\n",
    "$$\\begin{align}\n",
    "p(w=1|\\mathbf{x}, \\mathbf{\\phi}) \\quad & = &\\quad Bern_{w}\\bigg[ sig\\big[\\mathbf{\\phi}^{T}\n",
    "\\mathbf{x}\\big]\\bigg]\\\\\n",
    "p(w=0|\\mathbf{x}, \\mathbf{\\phi}) \\quad & = &\\quad 1 - Bern_{w}\\bigg[ sig\\big[\\mathbf{\\phi}^{T}\n",
    "\\mathbf{x}\\big]\\bigg]\\\\\n",
    "sig\\big[\\mathbf{\\phi}^{T}\\mathbf{x}\\big] \\quad & = &\\quad  \\frac{1}{1 + exp(-\\mathbf{\\phi}^{T}\\mathbf{x})}\\\\\n",
    "Bern_{w}(\\mathbf{a}) \\quad & = &\\quad \\prod_{i}^{N} a_{i}^{w_{i}}(1 - a_{i})^{1 - w_{i}}\n",
    "\\end{align}$$\n",
    "\n",
    "We extend the linear logistic regressions to employ non-linear bases.\n",
    "\n",
    "$$\\begin{align}\n",
    "p(w=1|\\mathbf{z}, \\mathbf{\\phi}) \\quad & = &\\quad Bern_{w}\\bigg[ sig\\big[\\mathbf{\\phi}^{T}\n",
    "\\mathbf{z}\\big]\\bigg]\\\\\n",
    "p(w=0|\\mathbf{z}, \\mathbf{\\phi}) \\quad & = &\\quad 1 - Bern_{w}\\bigg[ sig\\big[\\mathbf{\\phi}^{T}\n",
    "\\mathbf{z}\\big]\\bigg]\\\\\n",
    "sig\\big[\\mathbf{\\phi}^{T}\\mathbf{z}\\big] \\quad & = &\\quad  \\frac{1}{1 + exp(-\\mathbf{\\phi}^{T}\\mathbf{z})}\n",
    "\\end{align}$$\n",
    "\n",
    "Here, for a choice of $K$ and $f$,\n",
    "\n",
    "$$\\begin{align}\n",
    "\\mathbf{z} \\quad & = &\\quad \\big[1, f_{1}(\\mathbf{x}), \\cdots, f_{K}(\\mathbf{x})\\big]^{T}\n",
    "\\end{align}$$\n",
    "\n",
    "Among the choice of $f$'s,\n",
    "\n",
    "$$\\begin{align}\n",
    "z_{k} \\quad & = &\\quad heaviside[\\mathbf{\\alpha}_{k}^{T}\\mathbf{x}] \\quad & = &\\quad 1 \\quad if \\quad \\mathbf{\\alpha}_{k}^{T}\\mathbf{x} > 0 \\quad and \\quad 0 \\quad otherwise\\\\\n",
    "z_{k} \\quad & = &\\quad arctan[\\mathbf{\\alpha}_{k}^{T}\\mathbf{x}]\\\\\n",
    "z_{k} \\quad & = &\\quad gaussian[\\mathbf{\\alpha}_{k}^{T}\\mathbf{x}, \\lambda] \\quad & = &\\quad exp\\bigg(-\\frac{(\\mathbf{x} - \\alpha_{k})^{T}(\\mathbf{x} - \\alpha_{k})}{2\\lambda}\\bigg)\n",
    "\\end{align}$$\n",
    "\n",
    "Let us concatenate all the parameters.\n",
    "\n",
    "$$\\begin{align}\n",
    "\\mathbf{\\theta} \\quad & = &\\quad \\big[\\mathbf{\\phi}^{T}, \\mathbf{\\alpha}_{1}^{T}, \\cdots,  \\mathbf{\\alpha}_{K}^{T} \\big]^{T}\n",
    "\\quad & = &\\quad \\big[\\phi_{0}, \\phi_{1}, \\cdots, \\phi_{K}, \\alpha_{1, 1}, \\cdots, \\alpha_{D, 1}, \\cdots, \\alpha_{1, K}, \\cdots, \\alpha_{D, K} \\big] \\quad \\Rightarrow \\quad _{(K+1 + KD) \\times 1}\\\\\n",
    "\\end{align}$$\n",
    "\n",
    "We can choose the loglikelihood as the logistic cost function.\n",
    "\n",
    "$$\\begin{align}\n",
    "L(\\mathbf{\\theta}) \\quad & = &\\quad log \\bigg[Bern_{w}(\\mathbf{a}) \\bigg]\\\\\n",
    " \\quad & = &\\quad \\sum_{i}^{N} w_{i}log(a_{i}) + (1 - w_{i})log(1 - a_{i}) \\\\\n",
    " \\quad & = &\\quad \\sum_{i}^{N} w_{i}log\\bigg(\\frac{1}{1 + exp(-\\mathbf{\\phi}^{T}\\mathbf{z_{i}})}\\bigg) + (1 - w_{i})log \\bigg( \\frac{exp(-\\mathbf{\\phi}^{T}\\mathbf{z_{i}})}{1 + exp(-\\mathbf{\\phi}^{T}\\mathbf{z_{i}})} \\bigg) \\\\\n",
    "\\end{align}$$\n",
    "\n",
    "Let us write the following explicitly for the case of $z_{i, k} = gaussian[\\mathbf{\\alpha}_{k}^{T}\\mathbf{x}_{i}, \\lambda]$\n",
    "\n",
    "$$\\begin{align}\n",
    "a_{i} \\quad & = &\\quad \\mathbf{\\phi}^{T}\\mathbf{z_{i}} \\quad & = &\\quad \\sum_{k=0}^{K} \\phi_{k}z_{i,k} \\quad & = &\\quad \\phi_{0} + \\sum_{k=1}^{K} \\phi_{k} z_{i,k}\n",
    "\\end{align}$$\n",
    "\n",
    "In order to minimize the cost function, we employ gradient descents which requires first order derivative of the cost function with respect to the parameters.\n",
    "\n",
    "$$\\begin{align}\n",
    "\\frac{\\partial L(\\mathbf{\\theta})}{\\partial\\theta_{j}} \\quad & = &\\quad - \\sum_{i}^{N} ( w_{i} - sig[a_{i}]) \\frac{\\partial a_{i}}{\\partial\\theta_{j}}\n",
    "\\end{align}$$\n",
    "\n",
    "When $z_{k} = gaussian[\\mathbf{\\alpha}_{k}^{T}\\mathbf{x}, \\lambda]$,\n",
    "\n",
    "$$\\begin{align}\n",
    "z_{k} \\quad & = &\\quad exp\\bigg(-\\frac{(\\mathbf{x} - \\alpha_{k})^{T}(\\mathbf{x} - \\alpha_{k})}{2\\lambda}\\bigg)\\\\\n",
    "a_{i} \\quad & = &\\quad \\phi_{0} + \\sum_{k=1}^{K} \\phi_{k} exp\\bigg(-\\frac{1}{\\lambda}\\sum_{d=1}^{D} ({x}_{i, d} - \\alpha_{d, k})^{2}\\bigg)\n",
    "\\end{align}$$\n",
    "\n",
    "The gradients are\n",
    "\n",
    "$$\\begin{align}\n",
    "\\frac{\\partial a_{i}}{\\partial\\theta_{\\phi}} \\quad & \\Rightarrow &\\quad \\frac{\\partial a_{i}}{\\partial\\phi_{k}} \\quad & = & \\quad \\frac{\\partial \\phi_{k}}{\\partial\\phi_{k}} z_{i, k} \\quad & = & \\quad z_{i,k} \\quad \\Rightarrow \\quad _{(K+1) \\times N} \\\\\n",
    "\\frac{\\partial a_{i}}{\\partial\\theta_{\\alpha}} \\quad & \\Rightarrow & \\quad \\frac{\\partial a_{i}}{\\partial\\mathbf{\\alpha}_{dk}} \\quad & = & \\quad \\phi_{k} \\frac{\\partial z_{i, k}}{\\partial\\alpha_{dk}} \\quad & = & \\quad \\phi_{k}\\bigg[ \\frac{z_{i, k}}{\\lambda}(x_{i,d} - \\alpha_{dk})\\bigg] \\quad \\Rightarrow \\quad _{DK \\times N}\n",
    "\\end{align}$$\n",
    "\n",
    "When $z_{k} = arctan[\\mathbf{\\alpha}_{k}^{T}\\mathbf{x}]$,\n",
    "\n",
    "$$\\begin{align}\n",
    "z_{k} \\quad & = &\\quad arctan[\\mathbf{\\alpha}_{k}^{T}\\mathbf{x}]\\\\\n",
    "a_{i} \\quad & = &\\quad \\phi_{0} + \\sum_{k=1}^{K} \\phi_{k} arctan \\bigg[\\alpha_{d, 0}\\cdot 1 + \\sum_{d=1}^{D} \\alpha_{d, k}{x}_{i, d}\\bigg]\n",
    "\\end{align}$$\n",
    "\n",
    "The gradients are\n",
    "\n",
    "$$\\begin{align}\n",
    "\\frac{\\partial a_{i}}{\\partial\\theta_{\\phi}} \\quad & \\Rightarrow &\\quad \\frac{\\partial a_{i}}{\\partial\\phi_{k}} \\quad & = & \\quad \\frac{\\partial \\phi_{k}}{\\partial\\phi_{k}} z_{i, k} \\quad & = & \\quad z_{i,k} \\quad \\Rightarrow \\quad _{(K+1) \\times N} \\\\\n",
    "\\frac{\\partial a_{i}}{\\partial\\theta_{\\alpha}} \\quad & \\Rightarrow & \\quad \\frac{\\partial a_{i}}{\\partial\\mathbf{\\alpha}_{dk}} \\quad & = & \\quad \\phi_{k} \\frac{\\partial z_{i, k}}{\\partial\\alpha_{dk}} \\quad & = & \\quad \\phi_{k}\\bigg[ \\frac{x_{i, d}}{1 + z_{i, k}^{2}}\\bigg] \\quad \\Rightarrow \\quad _{DK \\times N}\n",
    "\\end{align}$$"
   ]
  },
  {
   "cell_type": "code",
   "execution_count": 11,
   "metadata": {
    "collapsed": true
   },
   "outputs": [],
   "source": [
    "import numpy as np\n",
    "import matplotlib.pyplot as plt\n",
    "import scipy.special as spsp\n",
    "import scipy.stats as spst\n",
    "%matplotlib inline\n",
    "\n",
    "from non_linear_logistic_regression_common import *\n",
    "# usual gangs"
   ]
  },
  {
   "cell_type": "code",
   "execution_count": 12,
   "metadata": {
    "collapsed": true
   },
   "outputs": [],
   "source": [
    "def cost_function(z, w, phi):\n",
    "    \"\"\"\n",
    "    this function computes logistic cost function\n",
    "    \n",
    "    Arguments:\n",
    "        z   :  (K + 1, N)  1 is for bias.\n",
    "        w   :  (1, N)\n",
    "        phi :  (1, K + 1)\n",
    "    \n",
    "    Output:\n",
    "        L:     scalar. cost function.\n",
    "    \"\"\"\n",
    "    sig = sigmoid(z, phi)\n",
    "    wlogsig1 = np.dot(w, np.log(sig))\n",
    "    wlogsig2 = np.dot(1 - w, np.log(1 - sig))\n",
    "    L = wlogsig1 + wlogsig2\n",
    "    return -L\n",
    "\n",
    "\n",
    "def optimization_method(method):\n",
    "    if method == \"adammini\":\n",
    "        return adam_minibatch\n",
    "    else:\n",
    "        raise KeyError(\"the method given does not exist.\")\n",
    "\n",
    "\n",
    "def optimization(z, x, w, phi, alp, lmd, sgps, nnn, beta, method):\n",
    "    \"\"\"\n",
    "    this function computes sigmoid function\n",
    "    \n",
    "    Arguments:\n",
    "        z    : generated bases including bias at the zeroth row. ((K+1), N).\n",
    "        x    : original cooridnates of the samples. (D, N)\n",
    "        phi  : phi. (1, (K+1))\n",
    "        alp  : alpha. (D, K)\n",
    "        beta : scalar. learning rate.\n",
    "        lmd  : scalar.\n",
    "        \n",
    "    Output:\n",
    "        theta: (1, (K+1+KD))\n",
    "    \"\"\"\n",
    "    D = x.shape[0]\n",
    "    D1 = D + 1\n",
    "    K = alp.shape[1]\n",
    "    K1 = K + 1\n",
    "    N = x.shape[1]\n",
    "    dlt = 1\n",
    "    step = 0\n",
    "    Ls = np.zeros(nnn)\n",
    "    alps = np.zeros((nnn, D, K))\n",
    "    alps[0] = alp\n",
    "    cost = cost_function(z, w, phi)\n",
    "    Ls[step] = cost\n",
    "    update_params = optimization_method(method)\n",
    "    v = np.zeros((1, K1 + K *D))\n",
    "    grad_sum = np.zeros((1, K1 + K *D))\n",
    "    while dlt > 0.0000001:\n",
    "        temp = cost\n",
    "        step += 1\n",
    "        if step == nnn:\n",
    "            break\n",
    "        z = radial_basis(x, alp, lmd, D, K, N)\n",
    "        bt = beta / np.sqrt(step)\n",
    "        phi, alp, grad_sum, v_new = update_params(z, x, w, phi, alp, lmd, sgps, D, K, N, beta, step, v, grad_sum)\n",
    "        cost = cost_function(z, w, phi) \n",
    "        alps[step, :, :] = alp\n",
    "        Ls[step] = cost\n",
    "        dlt = np.abs(cost - temp)/temp\n",
    "    theta = np.hstack((phi, alp.T.reshape(1, K*D)))\n",
    "    param_description(step, theta.squeeze(), lmd, sgps, beta, D, K)\n",
    "    cost = Ls[:step]\n",
    "    alpss = alps[:step, :, :]\n",
    "    return phi, alp, theta, cost, step, alpss\n",
    "\n",
    "\n",
    "def param_description(step, theta, lmd, sgps, beta, D, K):\n",
    "    K1 = K + 1\n",
    "    strng = '{:d} steps done for lambda = {:1.2f} and prior std**2 = {:1.2f}: '.format(step, lmd, sgps)\n",
    "    strng += '\\nbeta0 = {:1.2f}, beta1 = {:1.2f}, beta2 = {:1.2f}: '.format(beta[0], beta[1], beta[2])\n",
    "    strng += '\\nphi = \\n'\n",
    "    for i in range(K1):\n",
    "        strng += '{:1.2f}, '.format(theta[i])\n",
    "    strng += '\\nalp = '\n",
    "    for d in range(D):\n",
    "        strng += '\\n'\n",
    "        for i in range(K1+d, K1+K*D, D):\n",
    "            strng += '{:1.2f}, '.format(theta[i])\n",
    "    strng += '\\n'\n",
    "    print(strng)\n",
    "\n",
    "\n",
    "def adam_minibatch(z, x, w, phi, alp, lmd, sgps, D, K, N, beta, step, v, grad_sum):\n",
    "    \"\"\"\n",
    "    this function computes sigmoid function\n",
    "    \n",
    "    Arguments:\n",
    "        z    : generated bases including bias at the zeroth row. ((K+1) * N).\n",
    "        x    : original cooridnates of the samples. (D, N)\n",
    "        phi  : phi. (1, (K+1))\n",
    "        alp  : alpha. (D, K)\n",
    "        beta : scalar. learning rate.\n",
    "        lmd  : scalar.\n",
    "    \n",
    "    Intermediate:\n",
    "        dLdt   : ((K+1+KD), 1)\n",
    "\n",
    "    Output:\n",
    "        theta: (1, (K+1+KD))\n",
    "    \"\"\"\n",
    "    K1 = K + 1\n",
    "    nn = 100\n",
    "    n = np.random.choice(N, nn, replace=False)\n",
    "    x = x[:, n]\n",
    "    z = z[:, n]\n",
    "    w = w[:, n]\n",
    "    theta = np.hstack((phi, alp.T.reshape(1, K*D)))\n",
    "    dLdt  = dL_dtheta(z, x, w, phi, alp, lmd, D, K, nn)\n",
    "    v_new = beta[1] * v + (1 - beta[1]) * dLdt.T\n",
    "    v_num = v_new / (1 - beta[1] ** step)\n",
    "    grad_sum = beta[2] * grad_sum + (1 - beta[2]) * dLdt.T ** 2 \n",
    "    gs = grad_sum / (1 - beta[2] ** step)\n",
    "    theta += -beta[0] * v_num / (np.sqrt(gs) + 1e-8)  - theta / sgps\n",
    "    phi = theta[0, :K1].reshape(1, K1)\n",
    "    alp = theta[0, K1:].reshape(K, D).T\n",
    "    return phi, alp, grad_sum, v_new\n",
    "\n"
   ]
  },
  {
   "cell_type": "code",
   "execution_count": 13,
   "metadata": {},
   "outputs": [
    {
     "data": {
      "text/plain": [
       "<matplotlib.collections.PathCollection at 0x11cec0f98>"
      ]
     },
     "execution_count": 13,
     "metadata": {},
     "output_type": "execute_result"
    },
    {
     "data": {
      "image/png": "[encoded data removed]",
      "text/plain": [
       "<matplotlib.figure.Figure at 0x11cdabe48>"
      ]
     },
     "metadata": {},
     "output_type": "display_data"
    }
   ],
   "source": [
    "D = 2\n",
    "K = 20\n",
    "N = 200\n",
    "nnn = 10000\n",
    "\n",
    "plt.rcParams['figure.figsize'] = (4.0, 4.0)\n",
    "ds1, ds2, x, w = generate_data_set_dim2_nonlinear(N)\n",
    "\n",
    "alp = 2 * 2 * (np.random.rand(D, K) - 0.5)\n",
    "plt.scatter(alp[0], alp[1], s=50, c=(0.6, 0.8, 0.), marker='x')"
   ]
  },
  {
   "cell_type": "code",
   "execution_count": 14,
   "metadata": {
    "collapsed": true
   },
   "outputs": [],
   "source": [
    "phi = 2 * 2 * (np.random.rand(1, K + 1) - 0.5)"
   ]
  },
  {
   "cell_type": "code",
   "execution_count": 15,
   "metadata": {},
   "outputs": [
    {
     "ename": "NameError",
     "evalue": "name 'sigmoid' is not defined",
     "output_type": "error",
     "traceback": [
      "\u001b[0;31m---------------------------------------------------------------------------\u001b[0m",
      "\u001b[0;31mNameError\u001b[0m                                 Traceback (most recent call last)",
      "\u001b[0;32m<ipython-input-15-e92c013bf331>\u001b[0m in \u001b[0;36m<module>\u001b[0;34m()\u001b[0m\n\u001b[1;32m     10\u001b[0m     \u001b[0mbeta\u001b[0m \u001b[0;34m=\u001b[0m \u001b[0mbetas\u001b[0m\u001b[0;34m[\u001b[0m\u001b[0mb\u001b[0m\u001b[0;34m,\u001b[0m \u001b[0;34m:\u001b[0m\u001b[0;34m]\u001b[0m\u001b[0;34m\u001b[0m\u001b[0m\n\u001b[1;32m     11\u001b[0m     \u001b[0mz\u001b[0m \u001b[0;34m=\u001b[0m \u001b[0mradial_basis\u001b[0m\u001b[0;34m(\u001b[0m\u001b[0mx\u001b[0m\u001b[0;34m,\u001b[0m \u001b[0malp\u001b[0m\u001b[0;34m,\u001b[0m \u001b[0mlmd\u001b[0m\u001b[0;34m,\u001b[0m \u001b[0mD\u001b[0m\u001b[0;34m,\u001b[0m \u001b[0mK\u001b[0m\u001b[0;34m,\u001b[0m \u001b[0mN\u001b[0m\u001b[0;34m)\u001b[0m\u001b[0;34m\u001b[0m\u001b[0m\n\u001b[0;32m---> 12\u001b[0;31m     \u001b[0mphio\u001b[0m\u001b[0;34m,\u001b[0m \u001b[0malpo\u001b[0m\u001b[0;34m,\u001b[0m \u001b[0mtheta\u001b[0m\u001b[0;34m,\u001b[0m \u001b[0mcost\u001b[0m\u001b[0;34m,\u001b[0m \u001b[0mstep\u001b[0m\u001b[0;34m,\u001b[0m \u001b[0malps\u001b[0m \u001b[0;34m=\u001b[0m \u001b[0moptimization\u001b[0m\u001b[0;34m(\u001b[0m\u001b[0mz\u001b[0m\u001b[0;34m,\u001b[0m \u001b[0mx\u001b[0m\u001b[0;34m,\u001b[0m \u001b[0mw\u001b[0m\u001b[0;34m,\u001b[0m \u001b[0mphi\u001b[0m\u001b[0;34m,\u001b[0m \u001b[0malp\u001b[0m\u001b[0;34m,\u001b[0m \u001b[0mlmd\u001b[0m\u001b[0;34m,\u001b[0m \u001b[0msgps\u001b[0m\u001b[0;34m,\u001b[0m \u001b[0mnnn\u001b[0m\u001b[0;34m,\u001b[0m \u001b[0mbeta\u001b[0m\u001b[0;34m,\u001b[0m \u001b[0;34m'adammini'\u001b[0m\u001b[0;34m)\u001b[0m\u001b[0;34m\u001b[0m\u001b[0m\n\u001b[0m\u001b[1;32m     13\u001b[0m \u001b[0;34m\u001b[0m\u001b[0m\n\u001b[1;32m     14\u001b[0m     \u001b[0max\u001b[0m \u001b[0;34m+=\u001b[0m \u001b[0;36m1\u001b[0m\u001b[0;34m\u001b[0m\u001b[0m\n",
      "\u001b[0;32m<ipython-input-12-0c93e3a3f299>\u001b[0m in \u001b[0;36moptimization\u001b[0;34m(z, x, w, phi, alp, lmd, sgps, nnn, beta, method)\u001b[0m\n\u001b[1;32m     80\u001b[0m         \u001b[0mz\u001b[0m \u001b[0;34m=\u001b[0m \u001b[0mradial_basis\u001b[0m\u001b[0;34m(\u001b[0m\u001b[0mx\u001b[0m\u001b[0;34m,\u001b[0m \u001b[0malp\u001b[0m\u001b[0;34m,\u001b[0m \u001b[0mlmd\u001b[0m\u001b[0;34m,\u001b[0m \u001b[0mD\u001b[0m\u001b[0;34m,\u001b[0m \u001b[0mK\u001b[0m\u001b[0;34m,\u001b[0m \u001b[0mN\u001b[0m\u001b[0;34m)\u001b[0m\u001b[0;34m\u001b[0m\u001b[0m\n\u001b[1;32m     81\u001b[0m         \u001b[0mbt\u001b[0m \u001b[0;34m=\u001b[0m \u001b[0mbeta\u001b[0m \u001b[0;34m/\u001b[0m \u001b[0mnp\u001b[0m\u001b[0;34m.\u001b[0m\u001b[0msqrt\u001b[0m\u001b[0;34m(\u001b[0m\u001b[0mstep\u001b[0m\u001b[0;34m)\u001b[0m\u001b[0;34m\u001b[0m\u001b[0m\n\u001b[0;32m---> 82\u001b[0;31m         \u001b[0mphi\u001b[0m\u001b[0;34m,\u001b[0m \u001b[0malp\u001b[0m\u001b[0;34m,\u001b[0m \u001b[0mgrad_sum\u001b[0m\u001b[0;34m,\u001b[0m \u001b[0mv_new\u001b[0m \u001b[0;34m=\u001b[0m \u001b[0mupdate_params\u001b[0m\u001b[0;34m(\u001b[0m\u001b[0mz\u001b[0m\u001b[0;34m,\u001b[0m \u001b[0mx\u001b[0m\u001b[0;34m,\u001b[0m \u001b[0mw\u001b[0m\u001b[0;34m,\u001b[0m \u001b[0mphi\u001b[0m\u001b[0;34m,\u001b[0m \u001b[0malp\u001b[0m\u001b[0;34m,\u001b[0m \u001b[0mlmd\u001b[0m\u001b[0;34m,\u001b[0m \u001b[0msgps\u001b[0m\u001b[0;34m,\u001b[0m \u001b[0mD\u001b[0m\u001b[0;34m,\u001b[0m \u001b[0mK\u001b[0m\u001b[0;34m,\u001b[0m \u001b[0mN\u001b[0m\u001b[0;34m,\u001b[0m \u001b[0mbeta\u001b[0m\u001b[0;34m,\u001b[0m \u001b[0mstep\u001b[0m\u001b[0;34m,\u001b[0m \u001b[0mv\u001b[0m\u001b[0;34m,\u001b[0m \u001b[0mgrad_sum\u001b[0m\u001b[0;34m)\u001b[0m\u001b[0;34m\u001b[0m\u001b[0m\n\u001b[0m\u001b[1;32m     83\u001b[0m         \u001b[0mcost\u001b[0m \u001b[0;34m=\u001b[0m \u001b[0mcost_function\u001b[0m\u001b[0;34m(\u001b[0m\u001b[0mz\u001b[0m\u001b[0;34m,\u001b[0m \u001b[0mw\u001b[0m\u001b[0;34m,\u001b[0m \u001b[0mphi\u001b[0m\u001b[0;34m)\u001b[0m\u001b[0;34m\u001b[0m\u001b[0m\n\u001b[1;32m     84\u001b[0m         \u001b[0malps\u001b[0m\u001b[0;34m[\u001b[0m\u001b[0mstep\u001b[0m\u001b[0;34m,\u001b[0m \u001b[0;34m:\u001b[0m\u001b[0;34m,\u001b[0m \u001b[0;34m:\u001b[0m\u001b[0;34m]\u001b[0m \u001b[0;34m=\u001b[0m \u001b[0malp\u001b[0m\u001b[0;34m\u001b[0m\u001b[0m\n",
      "\u001b[0;32m<ipython-input-12-0c93e3a3f299>\u001b[0m in \u001b[0;36madam_minibatch\u001b[0;34m(z, x, w, phi, alp, lmd, sgps, D, K, N, beta, step, v, grad_sum)\u001b[0m\n\u001b[1;32m    133\u001b[0m     \u001b[0mw\u001b[0m \u001b[0;34m=\u001b[0m \u001b[0mw\u001b[0m\u001b[0;34m[\u001b[0m\u001b[0;34m:\u001b[0m\u001b[0;34m,\u001b[0m \u001b[0mn\u001b[0m\u001b[0;34m]\u001b[0m\u001b[0;34m\u001b[0m\u001b[0m\n\u001b[1;32m    134\u001b[0m     \u001b[0mtheta\u001b[0m \u001b[0;34m=\u001b[0m \u001b[0mnp\u001b[0m\u001b[0;34m.\u001b[0m\u001b[0mhstack\u001b[0m\u001b[0;34m(\u001b[0m\u001b[0;34m(\u001b[0m\u001b[0mphi\u001b[0m\u001b[0;34m,\u001b[0m \u001b[0malp\u001b[0m\u001b[0;34m.\u001b[0m\u001b[0mT\u001b[0m\u001b[0;34m.\u001b[0m\u001b[0mreshape\u001b[0m\u001b[0;34m(\u001b[0m\u001b[0;36m1\u001b[0m\u001b[0;34m,\u001b[0m \u001b[0mK\u001b[0m\u001b[0;34m*\u001b[0m\u001b[0mD\u001b[0m\u001b[0;34m)\u001b[0m\u001b[0;34m)\u001b[0m\u001b[0;34m)\u001b[0m\u001b[0;34m\u001b[0m\u001b[0m\n\u001b[0;32m--> 135\u001b[0;31m     \u001b[0mdLdt\u001b[0m  \u001b[0;34m=\u001b[0m \u001b[0mdL_dtheta\u001b[0m\u001b[0;34m(\u001b[0m\u001b[0mz\u001b[0m\u001b[0;34m,\u001b[0m \u001b[0mx\u001b[0m\u001b[0;34m,\u001b[0m \u001b[0mw\u001b[0m\u001b[0;34m,\u001b[0m \u001b[0mphi\u001b[0m\u001b[0;34m,\u001b[0m \u001b[0malp\u001b[0m\u001b[0;34m,\u001b[0m \u001b[0mlmd\u001b[0m\u001b[0;34m,\u001b[0m \u001b[0mD\u001b[0m\u001b[0;34m,\u001b[0m \u001b[0mK\u001b[0m\u001b[0;34m,\u001b[0m \u001b[0mnn\u001b[0m\u001b[0;34m)\u001b[0m\u001b[0;34m\u001b[0m\u001b[0m\n\u001b[0m\u001b[1;32m    136\u001b[0m     \u001b[0mv_new\u001b[0m \u001b[0;34m=\u001b[0m \u001b[0mbeta\u001b[0m\u001b[0;34m[\u001b[0m\u001b[0;36m1\u001b[0m\u001b[0;34m]\u001b[0m \u001b[0;34m*\u001b[0m \u001b[0mv\u001b[0m \u001b[0;34m+\u001b[0m \u001b[0;34m(\u001b[0m\u001b[0;36m1\u001b[0m \u001b[0;34m-\u001b[0m \u001b[0mbeta\u001b[0m\u001b[0;34m[\u001b[0m\u001b[0;36m1\u001b[0m\u001b[0;34m]\u001b[0m\u001b[0;34m)\u001b[0m \u001b[0;34m*\u001b[0m \u001b[0mdLdt\u001b[0m\u001b[0;34m.\u001b[0m\u001b[0mT\u001b[0m\u001b[0;34m\u001b[0m\u001b[0m\n\u001b[1;32m    137\u001b[0m     \u001b[0mv_num\u001b[0m \u001b[0;34m=\u001b[0m \u001b[0mv_new\u001b[0m \u001b[0;34m/\u001b[0m \u001b[0;34m(\u001b[0m\u001b[0;36m1\u001b[0m \u001b[0;34m-\u001b[0m \u001b[0mbeta\u001b[0m\u001b[0;34m[\u001b[0m\u001b[0;36m1\u001b[0m\u001b[0;34m]\u001b[0m \u001b[0;34m**\u001b[0m \u001b[0mstep\u001b[0m\u001b[0;34m)\u001b[0m\u001b[0;34m\u001b[0m\u001b[0m\n",
      "\u001b[0;32m/Users/hiroyukiinoue/Documents/Gits/machine_learning/scratch/optimization/non_linear_logistic_regression_common.py\u001b[0m in \u001b[0;36mdL_dtheta\u001b[0;34m(z, x, w, phi, alp, lmd, D, K, N)\u001b[0m\n\u001b[1;32m    258\u001b[0m     \"\"\"\n\u001b[1;32m    259\u001b[0m     \u001b[0mdadt\u001b[0m \u001b[0;34m=\u001b[0m \u001b[0mda_dtheta\u001b[0m\u001b[0;34m(\u001b[0m\u001b[0mz\u001b[0m\u001b[0;34m,\u001b[0m \u001b[0mx\u001b[0m\u001b[0;34m,\u001b[0m \u001b[0mphi\u001b[0m\u001b[0;34m,\u001b[0m \u001b[0malp\u001b[0m\u001b[0;34m,\u001b[0m \u001b[0mlmd\u001b[0m\u001b[0;34m,\u001b[0m \u001b[0mD\u001b[0m\u001b[0;34m,\u001b[0m \u001b[0mK\u001b[0m\u001b[0;34m,\u001b[0m \u001b[0mN\u001b[0m\u001b[0;34m)\u001b[0m\u001b[0;34m\u001b[0m\u001b[0m\n\u001b[0;32m--> 260\u001b[0;31m     \u001b[0msig\u001b[0m \u001b[0;34m=\u001b[0m \u001b[0msigmoid\u001b[0m\u001b[0;34m(\u001b[0m\u001b[0mz\u001b[0m\u001b[0;34m,\u001b[0m \u001b[0mphi\u001b[0m\u001b[0;34m)\u001b[0m\u001b[0;34m\u001b[0m\u001b[0m\n\u001b[0m\u001b[1;32m    261\u001b[0m     \u001b[0mdLdt\u001b[0m \u001b[0;34m=\u001b[0m \u001b[0mnp\u001b[0m\u001b[0;34m.\u001b[0m\u001b[0mdot\u001b[0m\u001b[0;34m(\u001b[0m\u001b[0mdadt\u001b[0m\u001b[0;34m,\u001b[0m \u001b[0mw\u001b[0m\u001b[0;34m.\u001b[0m\u001b[0mT\u001b[0m \u001b[0;34m-\u001b[0m \u001b[0msig\u001b[0m\u001b[0;34m)\u001b[0m\u001b[0;34m\u001b[0m\u001b[0m\n\u001b[1;32m    262\u001b[0m     \u001b[0mdLdt\u001b[0m \u001b[0;34m*=\u001b[0m \u001b[0;34m-\u001b[0m\u001b[0;36m1\u001b[0m\u001b[0;34m\u001b[0m\u001b[0m\n",
      "\u001b[0;31mNameError\u001b[0m: name 'sigmoid' is not defined"
     ]
    }
   ],
   "source": [
    "plt.rcParams['figure.figsize'] = (12.0, 12.0)\n",
    "nnn = 1000\n",
    "betas = np.array([[0.5, 0.98, 0.98], [0.5, 0.8, 0.8], [0.5, 0.5, 0.5]])\n",
    "sgps = 1000.0\n",
    "lmd = 0.5\n",
    "ax = 0\n",
    "\n",
    "rep = betas.shape[0]\n",
    "for b in range(rep):\n",
    "    beta = betas[b, :]\n",
    "    z = radial_basis(x, alp, lmd, D, K, N)\n",
    "    phio, alpo, theta, cost, step, alps = optimization(z, x, w, phi, alp, lmd, sgps, nnn, beta, 'adammini')\n",
    "\n",
    "    ax += 1\n",
    "    plt.subplot(rep, 3, ax)\n",
    "    bd = plot_decision_boundary_dim2(phio, alpo, lmd)\n",
    "    plt.scatter(ds1[0], ds1[1], c=(1., 0., 0.), s=3)\n",
    "    plt.scatter(ds2[0], ds2[1], c=(0., 0., 1.), s=3)\n",
    "    plt.scatter(alpo[0], alpo[1], s=50, c=(1.0, 0.0, 1.0), marker='x')\n",
    "    plt.scatter(alp[0], alp[1], s=50, c=(0.0, 0.8, 0.0), marker='+')\n",
    "    plt.xlim((-3, 3))\n",
    "    plt.ylim((-3, 3))\n",
    "    plt.title('alpha = {}'.format(beta))\n",
    "\n",
    "    ax += 1\n",
    "    plt.subplot(rep, 3, ax)\n",
    "    for k in range(alps.shape[2]):\n",
    "        plt.plot(alps[:, 0, k], alps[:, 1, k], '-', lw = 0.2, color=(0.0, 0.8, 0.0))\n",
    "    initi = plt.scatter(alp[0], alp[1], s=50, c=(0.0, 0.8, 0.0), marker='+')\n",
    "    final = plt.scatter(alpo[0], alpo[1], s=80, c=(1.0, 0.0, 1.0), marker='x')\n",
    "    plt.legend([initi, final], [\"initial\", \" final\"])\n",
    "    plt.xlim((-3, 3))\n",
    "    plt.ylim((-3, 3))\n",
    "\n",
    "    ax += 1\n",
    "    plt.subplot(rep, 3, ax)\n",
    "    plt.plot(np.arange(step), cost, '.')\n",
    "    plt.xlabel('number of iterations')\n",
    "    plt.ylabel('cost')"
   ]
  },
  {
   "cell_type": "code",
   "execution_count": null,
   "metadata": {
    "collapsed": true
   },
   "outputs": [],
   "source": []
  },
  {
   "cell_type": "code",
   "execution_count": null,
   "metadata": {
    "collapsed": true
   },
   "outputs": [],
   "source": []
  },
  {
   "cell_type": "code",
   "execution_count": null,
   "metadata": {
    "collapsed": true
   },
   "outputs": [],
   "source": []
  },
  {
   "cell_type": "code",
   "execution_count": null,
   "metadata": {
    "collapsed": true
   },
   "outputs": [],
   "source": []
  },
  {
   "cell_type": "code",
   "execution_count": null,
   "metadata": {
    "collapsed": true
   },
   "outputs": [],
   "source": []
  }
 ],
 "metadata": {
  "kernelspec": {
   "display_name": "Python 3",
   "language": "python",
   "name": "python3"
  },
  "language_info": {
   "codemirror_mode": {
    "name": "ipython",
    "version": 3
   },
   "file_extension": ".py",
   "mimetype": "text/x-python",
   "name": "python",
   "nbconvert_exporter": "python",
   "pygments_lexer": "ipython3",
   "version": "3.6.1"
  }
 },
 "nbformat": 4,
 "nbformat_minor": 2
}
